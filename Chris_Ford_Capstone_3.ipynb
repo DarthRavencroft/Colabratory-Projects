{
  "nbformat": 4,
  "nbformat_minor": 0,
  "metadata": {
    "colab": {
      "name": "Chris Ford Capstone 3.ipynb",
      "provenance": [],
      "collapsed_sections": []
    },
    "kernelspec": {
      "name": "python3",
      "display_name": "Python 3"
    }
  },
  "cells": [
    {
      "cell_type": "markdown",
      "metadata": {
        "id": "vKkNEtzXnPkq"
      },
      "source": [
        "# Runtime & Rating - Is there a connect? - Section 1 - Importing data\r\n",
        "# I am going to be using a Rotten Tomatoes Dataset for this test, we will be looking for correlation between Runtime and Audience Rating."
      ]
    },
    {
      "cell_type": "code",
      "metadata": {
        "id": "10sRQtzCgz7J",
        "colab": {
          "base_uri": "https://localhost:8080/"
        },
        "outputId": "03ada7e7-7d38-4670-8a93-fbb0a25b5579"
      },
      "source": [
        "from google.colab import drive\r\n",
        "drive.mount('/content/gdrive')"
      ],
      "execution_count": null,
      "outputs": [
        {
          "output_type": "stream",
          "text": [
            "Drive already mounted at /content/gdrive; to attempt to forcibly remount, call drive.mount(\"/content/gdrive\", force_remount=True).\n"
          ],
          "name": "stdout"
        }
      ]
    },
    {
      "cell_type": "code",
      "metadata": {
        "id": "OEnM9Xbyx3-n"
      },
      "source": [
        "import pandas as pd\r\n",
        "from scipy import stats\r\n",
        "import seaborn as sns\r\n",
        "import matplotlib.pyplot as plt\r\n",
        "import numpy as np\r\n"
      ],
      "execution_count": 129,
      "outputs": []
    },
    {
      "cell_type": "markdown",
      "metadata": {
        "id": "ZV1BKX1Um58D"
      },
      "source": [
        "# This is a [link](https://www.kaggle.com/stefanoleone992/rotten-tomatoes-movies-and-critic-reviews-dataset) directly to the dataset used for this test."
      ]
    },
    {
      "cell_type": "code",
      "metadata": {
        "id": "8VioeaO1mEKW",
        "colab": {
          "base_uri": "https://localhost:8080/",
          "height": 233
        },
        "outputId": "bd8366bd-a755-4a92-89af-d41374fa9fc5"
      },
      "source": [
        "# In this cell I have mounted the data set and provided 1 example of the format the dataset is currently in.\r\n",
        "Movies = pd.read_csv('/content/gdrive/My Drive/Colab Datasets/rotten_tomatoes_movies.csv', index_col=0)\r\n",
        "Movies.head(1)"
      ],
      "execution_count": 144,
      "outputs": [
        {
          "output_type": "execute_result",
          "data": {
            "text/html": [
              "<div>\n",
              "<style scoped>\n",
              "    .dataframe tbody tr th:only-of-type {\n",
              "        vertical-align: middle;\n",
              "    }\n",
              "\n",
              "    .dataframe tbody tr th {\n",
              "        vertical-align: top;\n",
              "    }\n",
              "\n",
              "    .dataframe thead th {\n",
              "        text-align: right;\n",
              "    }\n",
              "</style>\n",
              "<table border=\"1\" class=\"dataframe\">\n",
              "  <thead>\n",
              "    <tr style=\"text-align: right;\">\n",
              "      <th></th>\n",
              "      <th>movie_title</th>\n",
              "      <th>movie_info</th>\n",
              "      <th>critics_consensus</th>\n",
              "      <th>content_rating</th>\n",
              "      <th>genres</th>\n",
              "      <th>directors</th>\n",
              "      <th>authors</th>\n",
              "      <th>actors</th>\n",
              "      <th>original_release_date</th>\n",
              "      <th>streaming_release_date</th>\n",
              "      <th>runtime</th>\n",
              "      <th>production_company</th>\n",
              "      <th>tomatometer_status</th>\n",
              "      <th>tomatometer_rating</th>\n",
              "      <th>tomatometer_count</th>\n",
              "      <th>audience_status</th>\n",
              "      <th>audience_rating</th>\n",
              "      <th>audience_count</th>\n",
              "      <th>tomatometer_top_critics_count</th>\n",
              "      <th>tomatometer_fresh_critics_count</th>\n",
              "      <th>tomatometer_rotten_critics_count</th>\n",
              "    </tr>\n",
              "    <tr>\n",
              "      <th>rotten_tomatoes_link</th>\n",
              "      <th></th>\n",
              "      <th></th>\n",
              "      <th></th>\n",
              "      <th></th>\n",
              "      <th></th>\n",
              "      <th></th>\n",
              "      <th></th>\n",
              "      <th></th>\n",
              "      <th></th>\n",
              "      <th></th>\n",
              "      <th></th>\n",
              "      <th></th>\n",
              "      <th></th>\n",
              "      <th></th>\n",
              "      <th></th>\n",
              "      <th></th>\n",
              "      <th></th>\n",
              "      <th></th>\n",
              "      <th></th>\n",
              "      <th></th>\n",
              "      <th></th>\n",
              "    </tr>\n",
              "  </thead>\n",
              "  <tbody>\n",
              "    <tr>\n",
              "      <th>m/0814255</th>\n",
              "      <td>Percy Jackson &amp; the Olympians: The Lightning T...</td>\n",
              "      <td>Always trouble-prone, the life of teenager Per...</td>\n",
              "      <td>Though it may seem like just another Harry Pot...</td>\n",
              "      <td>PG</td>\n",
              "      <td>Action &amp; Adventure, Comedy, Drama, Science Fic...</td>\n",
              "      <td>Chris Columbus</td>\n",
              "      <td>Craig Titley, Chris Columbus, Rick Riordan</td>\n",
              "      <td>Logan Lerman, Brandon T. Jackson, Alexandra Da...</td>\n",
              "      <td>2010-02-12</td>\n",
              "      <td>2015-11-25</td>\n",
              "      <td>119.0</td>\n",
              "      <td>20th Century Fox</td>\n",
              "      <td>Rotten</td>\n",
              "      <td>49.0</td>\n",
              "      <td>149.0</td>\n",
              "      <td>Spilled</td>\n",
              "      <td>53.0</td>\n",
              "      <td>254421.0</td>\n",
              "      <td>43</td>\n",
              "      <td>73</td>\n",
              "      <td>76</td>\n",
              "    </tr>\n",
              "  </tbody>\n",
              "</table>\n",
              "</div>"
            ],
            "text/plain": [
              "                                                            movie_title  ... tomatometer_rotten_critics_count\n",
              "rotten_tomatoes_link                                                     ...                                 \n",
              "m/0814255             Percy Jackson & the Olympians: The Lightning T...  ...                               76\n",
              "\n",
              "[1 rows x 21 columns]"
            ]
          },
          "metadata": {
            "tags": []
          },
          "execution_count": 144
        }
      ]
    },
    {
      "cell_type": "code",
      "metadata": {
        "id": "YKUDIFc-4k54"
      },
      "source": [
        "Movies.info()"
      ],
      "execution_count": null,
      "outputs": []
    },
    {
      "cell_type": "code",
      "metadata": {
        "id": "xN2Os-jK5FRq"
      },
      "source": [
        "Movies['audience_rating'] = pd.to_numeric(Movies['audience_rating'])"
      ],
      "execution_count": null,
      "outputs": []
    },
    {
      "cell_type": "markdown",
      "metadata": {
        "id": "mTxwWRgjsP8X"
      },
      "source": [
        "# Section 2 - Filtering our lists.\r\n",
        "# In this section I will filter out anything unescessary for the test."
      ]
    },
    {
      "cell_type": "code",
      "metadata": {
        "id": "NFY72OrE4mQr"
      },
      "source": [
        "# Here I created a new filter titled Movies2 which selects only the columns we are using for this test\r\n",
        "Movies2 = Movies[['movie_title','genres','audience_rating','runtime']]"
      ],
      "execution_count": null,
      "outputs": []
    },
    {
      "cell_type": "code",
      "metadata": {
        "id": "KnovFDRruxgP"
      },
      "source": [
        "# I then created another filter Movies3 which only applies 1 genre which is horror.\r\n",
        "Movies3_filtered = Movies2[Movies2['genres'].isin(['Horror'])]"
      ],
      "execution_count": null,
      "outputs": []
    },
    {
      "cell_type": "code",
      "metadata": {
        "colab": {
          "base_uri": "https://localhost:8080/"
        },
        "id": "zDlAs71j6fKL",
        "outputId": "f301bca4-a0f1-429e-8473-31236e5e4a48"
      },
      "source": [
        "# I then wanted to see the info to my new filter.\r\n",
        "Movies3_filtered.info()"
      ],
      "execution_count": null,
      "outputs": [
        {
          "output_type": "stream",
          "text": [
            "<class 'pandas.core.frame.DataFrame'>\n",
            "Int64Index: 456 entries, 33 to 17696\n",
            "Data columns (total 4 columns):\n",
            " #   Column           Non-Null Count  Dtype  \n",
            "---  ------           --------------  -----  \n",
            " 0   movie_title      456 non-null    object \n",
            " 1   genres           456 non-null    object \n",
            " 2   audience_rating  446 non-null    float64\n",
            " 3   runtime          446 non-null    float64\n",
            "dtypes: float64(2), object(2)\n",
            "memory usage: 17.8+ KB\n"
          ],
          "name": "stdout"
        }
      ]
    },
    {
      "cell_type": "code",
      "metadata": {
        "id": "XmwdFDdV4D4x"
      },
      "source": [
        "# Here I further sort our movies into a specific dynamic we want to look at.\r\n",
        "Movies3_filtered_rating = Movies3_filtered.loc[(Movies3_filtered['audience_rating'] >= 60) & (Movies3_filtered['runtime'] <= 180)]"
      ],
      "execution_count": 106,
      "outputs": []
    },
    {
      "cell_type": "code",
      "metadata": {
        "id": "1cRCf2UTFTRF"
      },
      "source": [
        "# I then showed how many rows are in the section.\r\n",
        "Movies3_filtered.shape"
      ],
      "execution_count": null,
      "outputs": []
    },
    {
      "cell_type": "code",
      "metadata": {
        "id": "YVdDkaM7Ed4z"
      },
      "source": [
        "# Here I did a null check to see our null values.\r\n",
        "Movies3_filtered.isnull().sum()"
      ],
      "execution_count": null,
      "outputs": []
    },
    {
      "cell_type": "code",
      "metadata": {
        "id": "hXLQ2Or-FiDo"
      },
      "source": [
        "# After seeing my null values in this section I remove them from my rows.\r\n",
        "Movies3_filtered.dropna(inplace=True)\r\n",
        "Movies3_filtered.shape"
      ],
      "execution_count": null,
      "outputs": []
    },
    {
      "cell_type": "markdown",
      "metadata": {
        "id": "r4Ye0YEnItOS"
      },
      "source": [
        "# Section 3 - Listing, Sorting and Visualizing - Horror Movies\r\n",
        "\r\n",
        "---\r\n",
        "\r\n"
      ]
    },
    {
      "cell_type": "markdown",
      "metadata": {
        "id": "cXjVFRIaIFrD"
      },
      "source": [
        "My hypothesis is that shorter horror movies are more popular. This can be tested by taking in a number of movies the horror genre. I will filter my movies from ratings above 60 and any runtime below 180 minutesand run a pearsonr test to see if there is a correlation between Runtime and Audience Rating. This is valuable to producers so they can see what is the optimal length for their movie and plan accordingly."
      ]
    },
    {
      "cell_type": "code",
      "metadata": {
        "id": "KYOUX8yN-o8c"
      },
      "source": [
        "# In the first cell I want to see what my new dataset looks like.\r\n",
        "Movies3_filtered.head()"
      ],
      "execution_count": null,
      "outputs": []
    },
    {
      "cell_type": "code",
      "metadata": {
        "id": "XNg9-aVTBRoM"
      },
      "source": [
        "# I then take it a step farther and sort by runtime so we can easily see the top runtime vs low runtime.\r\n",
        "Movies3_filtered.sort_values('runtime').iloc[0:5]"
      ],
      "execution_count": null,
      "outputs": []
    },
    {
      "cell_type": "code",
      "metadata": {
        "id": "1pMf9RObsGqM",
        "colab": {
          "base_uri": "https://localhost:8080/"
        },
        "outputId": "55cd6ab6-fb33-4a5f-d61f-61c6ec6ad78c"
      },
      "source": [
        "# I then run my pearsonr test to see the correlation between runtime and audience rating. \r\n",
        "stats.pearsonr(Movies3_filtered_rating['runtime'],Movies3_filtered_rating['audience_rating'])"
      ],
      "execution_count": 107,
      "outputs": [
        {
          "output_type": "execute_result",
          "data": {
            "text/plain": [
              "(0.063921519096992, 0.5963934329330153)"
            ]
          },
          "metadata": {
            "tags": []
          },
          "execution_count": 107
        }
      ]
    },
    {
      "cell_type": "markdown",
      "metadata": {
        "id": "sxXfVNu_xqKU"
      },
      "source": [
        "# As we can see from the pearsonr test there is little to no correlation to support my hypothesis."
      ]
    },
    {
      "cell_type": "code",
      "metadata": {
        "id": "0hG-gY2YxSrl",
        "colab": {
          "base_uri": "https://localhost:8080/",
          "height": 350
        },
        "outputId": "c00cc498-2222-46d2-b6c9-20f0c1b1c813"
      },
      "source": [
        "# After running our personr test it is timme to show a scatterpoint graph to visualize our data. \r\n",
        "# As you can see from our graph there is little to no correlation. \r\n",
        "plt.figure(figsize=(10,5))\r\n",
        "sns.scatterplot(x=\"runtime\", y=\"audience_rating\", data=Movies3_filtered_rating)\r\n",
        "plt.xlabel(\"Runtime\")\r\n",
        "plt.ylabel(\"Audience Rating\")\r\n",
        "plt.title('Horror Movie Popularity vs Runtime')\r\n",
        "plt.show()"
      ],
      "execution_count": 108,
      "outputs": [
        {
          "output_type": "display_data",
          "data": {
            "image/png": "[encoded data removed]",
            "text/plain": [
              "<Figure size 720x360 with 1 Axes>"
            ]
          },
          "metadata": {
            "tags": [],
            "needs_background": "light"
          }
        }
      ]
    },
    {
      "cell_type": "code",
      "metadata": {
        "id": "5ml-e66egKHc",
        "outputId": "163437b1-cac9-47de-f8fa-be17671a6bd6",
        "colab": {
          "base_uri": "https://localhost:8080/",
          "height": 316
        }
      },
      "source": [
        "# After running our personr test it is timme to show a boxplot graph to visualize our data. \r\n",
        "Movies3_filtered_rating.hist(column ='runtime')"
      ],
      "execution_count": 153,
      "outputs": [
        {
          "output_type": "execute_result",
          "data": {
            "text/plain": [
              "array([[<matplotlib.axes._subplots.AxesSubplot object at 0x7fdf8256ee10>]],\n",
              "      dtype=object)"
            ]
          },
          "metadata": {
            "tags": []
          },
          "execution_count": 153
        },
        {
          "output_type": "display_data",
          "data": {
            "image/png": "[encoded data removed]",
            "text/plain": [
              "<Figure size 432x288 with 1 Axes>"
            ]
          },
          "metadata": {
            "tags": [],
            "needs_background": "light"
          }
        }
      ]
    },
    {
      "cell_type": "code",
      "metadata": {
        "id": "dy9hFmlZvJDA",
        "outputId": "b81ebcfd-1e4e-4429-f452-ae29aa2a1472",
        "colab": {
          "base_uri": "https://localhost:8080/",
          "height": 316
        }
      },
      "source": [
        "# After running our personr test it is timme to show a boxplot graph to visualize our data. \r\n",
        "Movies3_filtered_rating.hist(column ='audience_rating')"
      ],
      "execution_count": 154,
      "outputs": [
        {
          "output_type": "execute_result",
          "data": {
            "text/plain": [
              "array([[<matplotlib.axes._subplots.AxesSubplot object at 0x7fdf8251a6d0>]],\n",
              "      dtype=object)"
            ]
          },
          "metadata": {
            "tags": []
          },
          "execution_count": 154
        },
        {
          "output_type": "display_data",
          "data": {
            "image/png": "[encoded data removed]",
            "text/plain": [
              "<Figure size 432x288 with 1 Axes>"
            ]
          },
          "metadata": {
            "tags": [],
            "needs_background": "light"
          }
        }
      ]
    },
    {
      "cell_type": "markdown",
      "metadata": {
        "id": "aCSi-24xUF1m"
      },
      "source": [
        "# Section 4 - Listing, Sorting and Visualizing - Action Movies"
      ]
    },
    {
      "cell_type": "markdown",
      "metadata": {
        "id": "I_YrNplHWRdQ"
      },
      "source": [
        "My hypothesis is that longer action movies are more popular. This can be tested by taking in a number of movies the horror genre. I will filter my movies from ratings above 60 and any runtime below 180 minutesand run a pearsonr test to see if there is a correlation between Runtime and Audience Rating. This is valuable to producers so they can see what is the optimal length for their movie and plan accordingly."
      ]
    },
    {
      "cell_type": "code",
      "metadata": {
        "id": "VGEtsB5Xl0cR"
      },
      "source": [
        "# I created another filter Movies4 which only applies 1 genre which is action & adventure.\r\n",
        "Movies4_filtered = Movies2[Movies2['genres'].isin(['Action & Adventure'])]"
      ],
      "execution_count": 113,
      "outputs": []
    },
    {
      "cell_type": "code",
      "metadata": {
        "colab": {
          "base_uri": "https://localhost:8080/"
        },
        "id": "dc0VN3dMVgF2",
        "outputId": "37d258dc-3f03-442b-fc94-260f565605e3"
      },
      "source": [
        "# I then wanted to see the info to my new filter.\r\n",
        "Movies4_filtered.info()"
      ],
      "execution_count": 120,
      "outputs": [
        {
          "output_type": "stream",
          "text": [
            "<class 'pandas.core.frame.DataFrame'>\n",
            "Int64Index: 202 entries, 197 to 17574\n",
            "Data columns (total 4 columns):\n",
            " #   Column           Non-Null Count  Dtype  \n",
            "---  ------           --------------  -----  \n",
            " 0   movie_title      202 non-null    object \n",
            " 1   genres           202 non-null    object \n",
            " 2   audience_rating  202 non-null    float64\n",
            " 3   runtime          202 non-null    float64\n",
            "dtypes: float64(2), object(2)\n",
            "memory usage: 7.9+ KB\n"
          ],
          "name": "stdout"
        }
      ]
    },
    {
      "cell_type": "code",
      "metadata": {
        "id": "m6VI-KyxVw7D"
      },
      "source": [
        "# Here I further sort our movies into a specific dynamic we want to look at.\r\n",
        "Movies4_filtered_rating = Movies4_filtered.loc[(Movies4_filtered['audience_rating'] >= 60) & (Movies4_filtered['runtime'] <= 180)]"
      ],
      "execution_count": 123,
      "outputs": []
    },
    {
      "cell_type": "code",
      "metadata": {
        "id": "gQMfaOQ4V9gH"
      },
      "source": [
        "# I then showed how many rows are in the section.\r\n",
        "Movies4_filtered.shape"
      ],
      "execution_count": null,
      "outputs": []
    },
    {
      "cell_type": "code",
      "metadata": {
        "id": "QGl4Yv-NWIMj",
        "outputId": "13edb479-91bd-4178-dbaf-5a82e711f7d5",
        "colab": {
          "base_uri": "https://localhost:8080/"
        }
      },
      "source": [
        "# Here I did a null check to see our null values.\r\n",
        "Movies4_filtered.isnull().sum()"
      ],
      "execution_count": 122,
      "outputs": [
        {
          "output_type": "execute_result",
          "data": {
            "text/plain": [
              "movie_title        0\n",
              "genres             0\n",
              "audience_rating    0\n",
              "runtime            0\n",
              "dtype: int64"
            ]
          },
          "metadata": {
            "tags": []
          },
          "execution_count": 122
        }
      ]
    },
    {
      "cell_type": "code",
      "metadata": {
        "id": "ElOktJe0WCVl"
      },
      "source": [
        "# After seeing my null values in this section I remove them from my rows.\r\n",
        "Movies3_filtered.dropna(inplace=True)\r\n",
        "Movies3_filtered.shape"
      ],
      "execution_count": null,
      "outputs": []
    },
    {
      "cell_type": "code",
      "metadata": {
        "id": "y3BhJdnGmK4W",
        "outputId": "2b0bc8c2-6bff-44f3-98c6-e2302945dfde",
        "colab": {
          "base_uri": "https://localhost:8080/",
          "height": 203
        }
      },
      "source": [
        "# In the first cell I want to see what my new dataset looks like.\r\n",
        "Movies4_filtered.head()"
      ],
      "execution_count": 119,
      "outputs": [
        {
          "output_type": "execute_result",
          "data": {
            "text/html": [
              "<div>\n",
              "<style scoped>\n",
              "    .dataframe tbody tr th:only-of-type {\n",
              "        vertical-align: middle;\n",
              "    }\n",
              "\n",
              "    .dataframe tbody tr th {\n",
              "        vertical-align: top;\n",
              "    }\n",
              "\n",
              "    .dataframe thead th {\n",
              "        text-align: right;\n",
              "    }\n",
              "</style>\n",
              "<table border=\"1\" class=\"dataframe\">\n",
              "  <thead>\n",
              "    <tr style=\"text-align: right;\">\n",
              "      <th></th>\n",
              "      <th>movie_title</th>\n",
              "      <th>genres</th>\n",
              "      <th>audience_rating</th>\n",
              "      <th>runtime</th>\n",
              "    </tr>\n",
              "  </thead>\n",
              "  <tbody>\n",
              "    <tr>\n",
              "      <th>197</th>\n",
              "      <td>Bitch Slap</td>\n",
              "      <td>Action &amp; Adventure</td>\n",
              "      <td>29.0</td>\n",
              "      <td>104.0</td>\n",
              "    </tr>\n",
              "    <tr>\n",
              "      <th>336</th>\n",
              "      <td>Breakout</td>\n",
              "      <td>Action &amp; Adventure</td>\n",
              "      <td>41.0</td>\n",
              "      <td>96.0</td>\n",
              "    </tr>\n",
              "    <tr>\n",
              "      <th>380</th>\n",
              "      <td>Commando</td>\n",
              "      <td>Action &amp; Adventure</td>\n",
              "      <td>67.0</td>\n",
              "      <td>90.0</td>\n",
              "    </tr>\n",
              "    <tr>\n",
              "      <th>604</th>\n",
              "      <td>Missing in Action</td>\n",
              "      <td>Action &amp; Adventure</td>\n",
              "      <td>42.0</td>\n",
              "      <td>102.0</td>\n",
              "    </tr>\n",
              "    <tr>\n",
              "      <th>631</th>\n",
              "      <td>Nighthawks</td>\n",
              "      <td>Action &amp; Adventure</td>\n",
              "      <td>54.0</td>\n",
              "      <td>99.0</td>\n",
              "    </tr>\n",
              "  </tbody>\n",
              "</table>\n",
              "</div>"
            ],
            "text/plain": [
              "           movie_title              genres  audience_rating  runtime\n",
              "197         Bitch Slap  Action & Adventure             29.0    104.0\n",
              "336           Breakout  Action & Adventure             41.0     96.0\n",
              "380           Commando  Action & Adventure             67.0     90.0\n",
              "604  Missing in Action  Action & Adventure             42.0    102.0\n",
              "631         Nighthawks  Action & Adventure             54.0     99.0"
            ]
          },
          "metadata": {
            "tags": []
          },
          "execution_count": 119
        }
      ]
    },
    {
      "cell_type": "code",
      "metadata": {
        "id": "sJSARPeAmOcs",
        "outputId": "317925b5-2d3e-4ced-8a6e-e90dfddbcd45",
        "colab": {
          "base_uri": "https://localhost:8080/",
          "height": 1000
        }
      },
      "source": [
        "# I then take it a step farther and sort by runtime so we can easily see the top runtime vs low runtime.\r\n",
        "Movies4_filtered.sort_values('runtime').iloc[0:60]"
      ],
      "execution_count": 116,
      "outputs": [
        {
          "output_type": "execute_result",
          "data": {
            "text/html": [
              "<div>\n",
              "<style scoped>\n",
              "    .dataframe tbody tr th:only-of-type {\n",
              "        vertical-align: middle;\n",
              "    }\n",
              "\n",
              "    .dataframe tbody tr th {\n",
              "        vertical-align: top;\n",
              "    }\n",
              "\n",
              "    .dataframe thead th {\n",
              "        text-align: right;\n",
              "    }\n",
              "</style>\n",
              "<table border=\"1\" class=\"dataframe\">\n",
              "  <thead>\n",
              "    <tr style=\"text-align: right;\">\n",
              "      <th></th>\n",
              "      <th>movie_title</th>\n",
              "      <th>genres</th>\n",
              "      <th>audience_rating</th>\n",
              "      <th>runtime</th>\n",
              "    </tr>\n",
              "  </thead>\n",
              "  <tbody>\n",
              "    <tr>\n",
              "      <th>8858</th>\n",
              "      <td>Justice League: Gods and Monsters</td>\n",
              "      <td>Action &amp; Adventure</td>\n",
              "      <td>71.0</td>\n",
              "      <td>72.0</td>\n",
              "    </tr>\n",
              "    <tr>\n",
              "      <th>4048</th>\n",
              "      <td>Bring Me the Head of the Machine Gun Woman (Tr...</td>\n",
              "      <td>Action &amp; Adventure</td>\n",
              "      <td>43.0</td>\n",
              "      <td>75.0</td>\n",
              "    </tr>\n",
              "    <tr>\n",
              "      <th>2826</th>\n",
              "      <td>Antboy</td>\n",
              "      <td>Action &amp; Adventure</td>\n",
              "      <td>36.0</td>\n",
              "      <td>77.0</td>\n",
              "    </tr>\n",
              "    <tr>\n",
              "      <th>8406</th>\n",
              "      <td>Intensive Care</td>\n",
              "      <td>Action &amp; Adventure</td>\n",
              "      <td>14.0</td>\n",
              "      <td>80.0</td>\n",
              "    </tr>\n",
              "    <tr>\n",
              "      <th>1435</th>\n",
              "      <td>Torque</td>\n",
              "      <td>Action &amp; Adventure</td>\n",
              "      <td>41.0</td>\n",
              "      <td>81.0</td>\n",
              "    </tr>\n",
              "    <tr>\n",
              "      <th>3726</th>\n",
              "      <td>Blind Fury</td>\n",
              "      <td>Action &amp; Adventure</td>\n",
              "      <td>51.0</td>\n",
              "      <td>82.0</td>\n",
              "    </tr>\n",
              "    <tr>\n",
              "      <th>2903</th>\n",
              "      <td>Jackpot</td>\n",
              "      <td>Action &amp; Adventure</td>\n",
              "      <td>55.0</td>\n",
              "      <td>82.0</td>\n",
              "    </tr>\n",
              "    <tr>\n",
              "      <th>11643</th>\n",
              "      <td>Passenger 57</td>\n",
              "      <td>Action &amp; Adventure</td>\n",
              "      <td>38.0</td>\n",
              "      <td>83.0</td>\n",
              "    </tr>\n",
              "    <tr>\n",
              "      <th>15319</th>\n",
              "      <td>The Last Heist</td>\n",
              "      <td>Action &amp; Adventure</td>\n",
              "      <td>12.0</td>\n",
              "      <td>84.0</td>\n",
              "    </tr>\n",
              "    <tr>\n",
              "      <th>16904</th>\n",
              "      <td>Vigilante Diaries</td>\n",
              "      <td>Action &amp; Adventure</td>\n",
              "      <td>69.0</td>\n",
              "      <td>84.0</td>\n",
              "    </tr>\n",
              "    <tr>\n",
              "      <th>2733</th>\n",
              "      <td>Cymbeline</td>\n",
              "      <td>Action &amp; Adventure</td>\n",
              "      <td>14.0</td>\n",
              "      <td>85.0</td>\n",
              "    </tr>\n",
              "    <tr>\n",
              "      <th>2303</th>\n",
              "      <td>Acceleration</td>\n",
              "      <td>Action &amp; Adventure</td>\n",
              "      <td>20.0</td>\n",
              "      <td>85.0</td>\n",
              "    </tr>\n",
              "    <tr>\n",
              "      <th>6464</th>\n",
              "      <td>Fire Birds</td>\n",
              "      <td>Action &amp; Adventure</td>\n",
              "      <td>36.0</td>\n",
              "      <td>85.0</td>\n",
              "    </tr>\n",
              "    <tr>\n",
              "      <th>12424</th>\n",
              "      <td>The Replacement Killers</td>\n",
              "      <td>Action &amp; Adventure</td>\n",
              "      <td>47.0</td>\n",
              "      <td>86.0</td>\n",
              "    </tr>\n",
              "    <tr>\n",
              "      <th>7369</th>\n",
              "      <td>Gun Shy</td>\n",
              "      <td>Action &amp; Adventure</td>\n",
              "      <td>37.0</td>\n",
              "      <td>86.0</td>\n",
              "    </tr>\n",
              "    <tr>\n",
              "      <th>2422</th>\n",
              "      <td>Age Of Kill</td>\n",
              "      <td>Action &amp; Adventure</td>\n",
              "      <td>32.0</td>\n",
              "      <td>86.0</td>\n",
              "    </tr>\n",
              "    <tr>\n",
              "      <th>7790</th>\n",
              "      <td>Hobo With a Shotgun</td>\n",
              "      <td>Action &amp; Adventure</td>\n",
              "      <td>57.0</td>\n",
              "      <td>86.0</td>\n",
              "    </tr>\n",
              "    <tr>\n",
              "      <th>14178</th>\n",
              "      <td>Sword Of Vengeance</td>\n",
              "      <td>Action &amp; Adventure</td>\n",
              "      <td>19.0</td>\n",
              "      <td>87.0</td>\n",
              "    </tr>\n",
              "    <tr>\n",
              "      <th>16452</th>\n",
              "      <td>Transporter 2</td>\n",
              "      <td>Action &amp; Adventure</td>\n",
              "      <td>58.0</td>\n",
              "      <td>88.0</td>\n",
              "    </tr>\n",
              "    <tr>\n",
              "      <th>16422</th>\n",
              "      <td>Trading Paint</td>\n",
              "      <td>Action &amp; Adventure</td>\n",
              "      <td>35.0</td>\n",
              "      <td>88.0</td>\n",
              "    </tr>\n",
              "    <tr>\n",
              "      <th>9868</th>\n",
              "      <td>Lucy</td>\n",
              "      <td>Action &amp; Adventure</td>\n",
              "      <td>47.0</td>\n",
              "      <td>88.0</td>\n",
              "    </tr>\n",
              "    <tr>\n",
              "      <th>3645</th>\n",
              "      <td>Black Dog</td>\n",
              "      <td>Action &amp; Adventure</td>\n",
              "      <td>60.0</td>\n",
              "      <td>88.0</td>\n",
              "    </tr>\n",
              "    <tr>\n",
              "      <th>5847</th>\n",
              "      <td>Earth to Echo</td>\n",
              "      <td>Action &amp; Adventure</td>\n",
              "      <td>47.0</td>\n",
              "      <td>89.0</td>\n",
              "    </tr>\n",
              "    <tr>\n",
              "      <th>6954</th>\n",
              "      <td>Getaway</td>\n",
              "      <td>Action &amp; Adventure</td>\n",
              "      <td>35.0</td>\n",
              "      <td>89.0</td>\n",
              "    </tr>\n",
              "    <tr>\n",
              "      <th>1396</th>\n",
              "      <td>Derailed</td>\n",
              "      <td>Action &amp; Adventure</td>\n",
              "      <td>21.0</td>\n",
              "      <td>89.0</td>\n",
              "    </tr>\n",
              "    <tr>\n",
              "      <th>8939</th>\n",
              "      <td>Kickboxer 2: The Road Back</td>\n",
              "      <td>Action &amp; Adventure</td>\n",
              "      <td>31.0</td>\n",
              "      <td>89.0</td>\n",
              "    </tr>\n",
              "    <tr>\n",
              "      <th>1197</th>\n",
              "      <td>The Avengers</td>\n",
              "      <td>Action &amp; Adventure</td>\n",
              "      <td>15.0</td>\n",
              "      <td>89.0</td>\n",
              "    </tr>\n",
              "    <tr>\n",
              "      <th>986</th>\n",
              "      <td>Gunmen</td>\n",
              "      <td>Action &amp; Adventure</td>\n",
              "      <td>35.0</td>\n",
              "      <td>90.0</td>\n",
              "    </tr>\n",
              "    <tr>\n",
              "      <th>5607</th>\n",
              "      <td>Dolemite</td>\n",
              "      <td>Action &amp; Adventure</td>\n",
              "      <td>67.0</td>\n",
              "      <td>90.0</td>\n",
              "    </tr>\n",
              "    <tr>\n",
              "      <th>9058</th>\n",
              "      <td>Kite</td>\n",
              "      <td>Action &amp; Adventure</td>\n",
              "      <td>18.0</td>\n",
              "      <td>90.0</td>\n",
              "    </tr>\n",
              "    <tr>\n",
              "      <th>7630</th>\n",
              "      <td>Heist</td>\n",
              "      <td>Action &amp; Adventure</td>\n",
              "      <td>41.0</td>\n",
              "      <td>90.0</td>\n",
              "    </tr>\n",
              "    <tr>\n",
              "      <th>5323</th>\n",
              "      <td>Death Wish 3</td>\n",
              "      <td>Action &amp; Adventure</td>\n",
              "      <td>54.0</td>\n",
              "      <td>90.0</td>\n",
              "    </tr>\n",
              "    <tr>\n",
              "      <th>13172</th>\n",
              "      <td>Sharknado 2: The Second One</td>\n",
              "      <td>Action &amp; Adventure</td>\n",
              "      <td>31.0</td>\n",
              "      <td>90.0</td>\n",
              "    </tr>\n",
              "    <tr>\n",
              "      <th>4696</th>\n",
              "      <td>Close Range</td>\n",
              "      <td>Action &amp; Adventure</td>\n",
              "      <td>27.0</td>\n",
              "      <td>90.0</td>\n",
              "    </tr>\n",
              "    <tr>\n",
              "      <th>380</th>\n",
              "      <td>Commando</td>\n",
              "      <td>Action &amp; Adventure</td>\n",
              "      <td>67.0</td>\n",
              "      <td>90.0</td>\n",
              "    </tr>\n",
              "    <tr>\n",
              "      <th>8857</th>\n",
              "      <td>Justice League Dark: Apokolips War</td>\n",
              "      <td>Action &amp; Adventure</td>\n",
              "      <td>91.0</td>\n",
              "      <td>90.0</td>\n",
              "    </tr>\n",
              "    <tr>\n",
              "      <th>10343</th>\n",
              "      <td>Miami Connection</td>\n",
              "      <td>Action &amp; Adventure</td>\n",
              "      <td>64.0</td>\n",
              "      <td>90.0</td>\n",
              "    </tr>\n",
              "    <tr>\n",
              "      <th>17474</th>\n",
              "      <td>Wolves</td>\n",
              "      <td>Action &amp; Adventure</td>\n",
              "      <td>32.0</td>\n",
              "      <td>90.0</td>\n",
              "    </tr>\n",
              "    <tr>\n",
              "      <th>2039</th>\n",
              "      <td>7 Guardians of the Tomb</td>\n",
              "      <td>Action &amp; Adventure</td>\n",
              "      <td>23.0</td>\n",
              "      <td>90.0</td>\n",
              "    </tr>\n",
              "    <tr>\n",
              "      <th>2498</th>\n",
              "      <td>Alien Outpost</td>\n",
              "      <td>Action &amp; Adventure</td>\n",
              "      <td>32.0</td>\n",
              "      <td>90.0</td>\n",
              "    </tr>\n",
              "    <tr>\n",
              "      <th>3541</th>\n",
              "      <td>Big Game</td>\n",
              "      <td>Action &amp; Adventure</td>\n",
              "      <td>34.0</td>\n",
              "      <td>90.0</td>\n",
              "    </tr>\n",
              "    <tr>\n",
              "      <th>3545</th>\n",
              "      <td>The Big Hit</td>\n",
              "      <td>Action &amp; Adventure</td>\n",
              "      <td>57.0</td>\n",
              "      <td>91.0</td>\n",
              "    </tr>\n",
              "    <tr>\n",
              "      <th>5683</th>\n",
              "      <td>Double Team</td>\n",
              "      <td>Action &amp; Adventure</td>\n",
              "      <td>25.0</td>\n",
              "      <td>91.0</td>\n",
              "    </tr>\n",
              "    <tr>\n",
              "      <th>11277</th>\n",
              "      <td>Officer Downe</td>\n",
              "      <td>Action &amp; Adventure</td>\n",
              "      <td>30.0</td>\n",
              "      <td>91.0</td>\n",
              "    </tr>\n",
              "    <tr>\n",
              "      <th>15924</th>\n",
              "      <td>The Transporter Refueled</td>\n",
              "      <td>Action &amp; Adventure</td>\n",
              "      <td>30.0</td>\n",
              "      <td>91.0</td>\n",
              "    </tr>\n",
              "    <tr>\n",
              "      <th>6791</th>\n",
              "      <td>From Paris with Love</td>\n",
              "      <td>Action &amp; Adventure</td>\n",
              "      <td>54.0</td>\n",
              "      <td>92.0</td>\n",
              "    </tr>\n",
              "    <tr>\n",
              "      <th>3775</th>\n",
              "      <td>Bloodsport</td>\n",
              "      <td>Action &amp; Adventure</td>\n",
              "      <td>74.0</td>\n",
              "      <td>92.0</td>\n",
              "    </tr>\n",
              "    <tr>\n",
              "      <th>11488</th>\n",
              "      <td>Out for Justice</td>\n",
              "      <td>Action &amp; Adventure</td>\n",
              "      <td>53.0</td>\n",
              "      <td>92.0</td>\n",
              "    </tr>\n",
              "    <tr>\n",
              "      <th>2919</th>\n",
              "      <td>Arsenal</td>\n",
              "      <td>Action &amp; Adventure</td>\n",
              "      <td>17.0</td>\n",
              "      <td>92.0</td>\n",
              "    </tr>\n",
              "    <tr>\n",
              "      <th>7064</th>\n",
              "      <td>The Glimmer Man</td>\n",
              "      <td>Action &amp; Adventure</td>\n",
              "      <td>38.0</td>\n",
              "      <td>92.0</td>\n",
              "    </tr>\n",
              "    <tr>\n",
              "      <th>12350</th>\n",
              "      <td>Red Dawn</td>\n",
              "      <td>Action &amp; Adventure</td>\n",
              "      <td>51.0</td>\n",
              "      <td>93.0</td>\n",
              "    </tr>\n",
              "    <tr>\n",
              "      <th>5325</th>\n",
              "      <td>Death Wish II</td>\n",
              "      <td>Action &amp; Adventure</td>\n",
              "      <td>44.0</td>\n",
              "      <td>93.0</td>\n",
              "    </tr>\n",
              "    <tr>\n",
              "      <th>12661</th>\n",
              "      <td>Roger Corman's Death Race 2050</td>\n",
              "      <td>Action &amp; Adventure</td>\n",
              "      <td>33.0</td>\n",
              "      <td>93.0</td>\n",
              "    </tr>\n",
              "    <tr>\n",
              "      <th>1088</th>\n",
              "      <td>The Quest</td>\n",
              "      <td>Action &amp; Adventure</td>\n",
              "      <td>36.0</td>\n",
              "      <td>93.0</td>\n",
              "    </tr>\n",
              "    <tr>\n",
              "      <th>13514</th>\n",
              "      <td>Soldiers of Fortune</td>\n",
              "      <td>Action &amp; Adventure</td>\n",
              "      <td>9.0</td>\n",
              "      <td>94.0</td>\n",
              "    </tr>\n",
              "    <tr>\n",
              "      <th>15578</th>\n",
              "      <td>The Outsider</td>\n",
              "      <td>Action &amp; Adventure</td>\n",
              "      <td>12.0</td>\n",
              "      <td>94.0</td>\n",
              "    </tr>\n",
              "    <tr>\n",
              "      <th>7493</th>\n",
              "      <td>Hard Target</td>\n",
              "      <td>Action &amp; Adventure</td>\n",
              "      <td>49.0</td>\n",
              "      <td>94.0</td>\n",
              "    </tr>\n",
              "    <tr>\n",
              "      <th>16413</th>\n",
              "      <td>Tracers</td>\n",
              "      <td>Action &amp; Adventure</td>\n",
              "      <td>37.0</td>\n",
              "      <td>94.0</td>\n",
              "    </tr>\n",
              "    <tr>\n",
              "      <th>12450</th>\n",
              "      <td>Resident Evil: Retribution</td>\n",
              "      <td>Action &amp; Adventure</td>\n",
              "      <td>51.0</td>\n",
              "      <td>95.0</td>\n",
              "    </tr>\n",
              "    <tr>\n",
              "      <th>10400</th>\n",
              "      <td>Mile 22</td>\n",
              "      <td>Action &amp; Adventure</td>\n",
              "      <td>44.0</td>\n",
              "      <td>95.0</td>\n",
              "    </tr>\n",
              "  </tbody>\n",
              "</table>\n",
              "</div>"
            ],
            "text/plain": [
              "                                             movie_title  ... runtime\n",
              "8858                   Justice League: Gods and Monsters  ...    72.0\n",
              "4048   Bring Me the Head of the Machine Gun Woman (Tr...  ...    75.0\n",
              "2826                                              Antboy  ...    77.0\n",
              "8406                                      Intensive Care  ...    80.0\n",
              "1435                                              Torque  ...    81.0\n",
              "3726                                          Blind Fury  ...    82.0\n",
              "2903                                             Jackpot  ...    82.0\n",
              "11643                                       Passenger 57  ...    83.0\n",
              "15319                                     The Last Heist  ...    84.0\n",
              "16904                                  Vigilante Diaries  ...    84.0\n",
              "2733                                           Cymbeline  ...    85.0\n",
              "2303                                        Acceleration  ...    85.0\n",
              "6464                                          Fire Birds  ...    85.0\n",
              "12424                            The Replacement Killers  ...    86.0\n",
              "7369                                             Gun Shy  ...    86.0\n",
              "2422                                         Age Of Kill  ...    86.0\n",
              "7790                                 Hobo With a Shotgun  ...    86.0\n",
              "14178                                 Sword Of Vengeance  ...    87.0\n",
              "16452                                      Transporter 2  ...    88.0\n",
              "16422                                      Trading Paint  ...    88.0\n",
              "9868                                                Lucy  ...    88.0\n",
              "3645                                           Black Dog  ...    88.0\n",
              "5847                                       Earth to Echo  ...    89.0\n",
              "6954                                             Getaway  ...    89.0\n",
              "1396                                            Derailed  ...    89.0\n",
              "8939                          Kickboxer 2: The Road Back  ...    89.0\n",
              "1197                                        The Avengers  ...    89.0\n",
              "986                                               Gunmen  ...    90.0\n",
              "5607                                            Dolemite  ...    90.0\n",
              "9058                                                Kite  ...    90.0\n",
              "7630                                               Heist  ...    90.0\n",
              "5323                                        Death Wish 3  ...    90.0\n",
              "13172                        Sharknado 2: The Second One  ...    90.0\n",
              "4696                                         Close Range  ...    90.0\n",
              "380                                             Commando  ...    90.0\n",
              "8857                  Justice League Dark: Apokolips War  ...    90.0\n",
              "10343                                   Miami Connection  ...    90.0\n",
              "17474                                             Wolves  ...    90.0\n",
              "2039                             7 Guardians of the Tomb  ...    90.0\n",
              "2498                                       Alien Outpost  ...    90.0\n",
              "3541                                            Big Game  ...    90.0\n",
              "3545                                         The Big Hit  ...    91.0\n",
              "5683                                         Double Team  ...    91.0\n",
              "11277                                      Officer Downe  ...    91.0\n",
              "15924                           The Transporter Refueled  ...    91.0\n",
              "6791                                From Paris with Love  ...    92.0\n",
              "3775                                          Bloodsport  ...    92.0\n",
              "11488                                    Out for Justice  ...    92.0\n",
              "2919                                             Arsenal  ...    92.0\n",
              "7064                                     The Glimmer Man  ...    92.0\n",
              "12350                                           Red Dawn  ...    93.0\n",
              "5325                                       Death Wish II  ...    93.0\n",
              "12661                     Roger Corman's Death Race 2050  ...    93.0\n",
              "1088                                           The Quest  ...    93.0\n",
              "13514                                Soldiers of Fortune  ...    94.0\n",
              "15578                                       The Outsider  ...    94.0\n",
              "7493                                         Hard Target  ...    94.0\n",
              "16413                                            Tracers  ...    94.0\n",
              "12450                         Resident Evil: Retribution  ...    95.0\n",
              "10400                                            Mile 22  ...    95.0\n",
              "\n",
              "[60 rows x 4 columns]"
            ]
          },
          "metadata": {
            "tags": []
          },
          "execution_count": 116
        }
      ]
    },
    {
      "cell_type": "code",
      "metadata": {
        "id": "vkt4aMmv1YlH",
        "outputId": "7d13bee4-4ddb-4d1c-e1f7-957a83a3ab10",
        "colab": {
          "base_uri": "https://localhost:8080/"
        }
      },
      "source": [
        "# I then run my pearsonr test to see the correlation between runtime and audience rating. \r\n",
        "stats.pearsonr(Movies4_filtered['runtime'],Movies4_filtered['audience_rating'])"
      ],
      "execution_count": 124,
      "outputs": [
        {
          "output_type": "execute_result",
          "data": {
            "text/plain": [
              "(0.3949216402755179, 6.019562883900148e-09)"
            ]
          },
          "metadata": {
            "tags": []
          },
          "execution_count": 124
        }
      ]
    },
    {
      "cell_type": "code",
      "metadata": {
        "id": "EGdu09FM1qOh",
        "outputId": "29f78934-aac9-45d0-cd89-f19e8ecf61fc",
        "colab": {
          "base_uri": "https://localhost:8080/",
          "height": 350
        }
      },
      "source": [
        "# After running our personr test it is timme to show a scatterpoint graph to visualize our data. \r\n",
        "# As you can see from our graph there is little to no correlation.\r\n",
        "plt.figure(figsize=(10,5))\r\n",
        "sns.scatterplot(x=\"runtime\", y=\"audience_rating\", data=Movies4_filtered)\r\n",
        "plt.xlabel(\"Runtime\")\r\n",
        "plt.ylabel(\"Audience Rating\")\r\n",
        "plt.title('Action Movie Popularity vs Runtime',)\r\n",
        "plt.show()"
      ],
      "execution_count": 125,
      "outputs": [
        {
          "output_type": "display_data",
          "data": {
            "image/png": "[encoded data removed]",
            "text/plain": [
              "<Figure size 720x360 with 1 Axes>"
            ]
          },
          "metadata": {
            "tags": [],
            "needs_background": "light"
          }
        }
      ]
    },
    {
      "cell_type": "code",
      "metadata": {
        "id": "1ZmJl-3R484A"
      },
      "source": [
        "# After running our personr test it is timme to show a boxplot graph to visualize our data. \r\n",
        "Movies3_filtered_rating.hist(column ='runtime')"
      ],
      "execution_count": null,
      "outputs": []
    },
    {
      "cell_type": "code",
      "metadata": {
        "id": "sXo_l4-m45Hk",
        "outputId": "153186a7-2aa5-44e8-b031-16e195d95e6c",
        "colab": {
          "base_uri": "https://localhost:8080/",
          "height": 316
        }
      },
      "source": [
        "# After running our personr test it is timme to show a boxplot graph to visualize our data. \r\n",
        "Movies4_filtered_rating.hist(column ='audience_rating')"
      ],
      "execution_count": 156,
      "outputs": [
        {
          "output_type": "execute_result",
          "data": {
            "text/plain": [
              "array([[<matplotlib.axes._subplots.AxesSubplot object at 0x7fdf8242d790>]],\n",
              "      dtype=object)"
            ]
          },
          "metadata": {
            "tags": []
          },
          "execution_count": 156
        },
        {
          "output_type": "display_data",
          "data": {
            "image/png": "[encoded data removed]",
            "text/plain": [
              "<Figure size 432x288 with 1 Axes>"
            ]
          },
          "metadata": {
            "tags": [],
            "needs_background": "light"
          }
        }
      ]
    },
    {
      "cell_type": "markdown",
      "metadata": {
        "id": "3DhDtClo5DuL"
      },
      "source": [
        "# Section 5 - Conclusion"
      ]
    },
    {
      "cell_type": "markdown",
      "metadata": {
        "id": "qvx4f2HA5MqH"
      },
      "source": [
        ""
      ]
    }
  ]
}