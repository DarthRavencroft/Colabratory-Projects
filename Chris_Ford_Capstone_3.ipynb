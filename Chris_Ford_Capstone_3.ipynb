{
  "nbformat": 4,
  "nbformat_minor": 0,
  "metadata": {
    "colab": {
      "name": "Chris Ford Capstone 3.ipynb",
      "provenance": [],
      "collapsed_sections": []
    },
    "kernelspec": {
      "name": "python3",
      "display_name": "Python 3"
    }
  },
  "cells": [
    {
      "cell_type": "markdown",
      "metadata": {
        "id": "vKkNEtzXnPkq"
      },
      "source": [
        "# Runtime & Rating - Is there a connect? - Section 1 - Importing data\n",
        "# I am going to be using a Rotten Tomatoes Dataset for this test, we will be looking for correlation between Runtime, Audience Count and Audience Rating."
      ]
    },
    {
      "cell_type": "code",
      "metadata": {
        "id": "10sRQtzCgz7J",
        "colab": {
          "base_uri": "https://localhost:8080/"
        },
        "outputId": "5a2327c6-0202-4695-d549-15711715f21f"
      },
      "source": [
        "from google.colab import drive\n",
        "drive.mount('/content/gdrive')"
      ],
      "execution_count": null,
      "outputs": [
        {
          "output_type": "stream",
          "text": [
            "Mounted at /content/gdrive\n"
          ],
          "name": "stdout"
        }
      ]
    },
    {
      "cell_type": "code",
      "metadata": {
        "id": "OEnM9Xbyx3-n"
      },
      "source": [
        "import pandas as pd\n",
        "from scipy import stats\n",
        "import seaborn as sns\n",
        "import matplotlib.pyplot as plt\n",
        "import numpy as np\n"
      ],
      "execution_count": null,
      "outputs": []
    },
    {
      "cell_type": "markdown",
      "metadata": {
        "id": "ZV1BKX1Um58D"
      },
      "source": [
        "# This is a [link](https://www.kaggle.com/stefanoleone992/rotten-tomatoes-movies-and-critic-reviews-dataset) directly to the dataset used for this test."
      ]
    },
    {
      "cell_type": "code",
      "metadata": {
        "id": "8VioeaO1mEKW",
        "colab": {
          "base_uri": "https://localhost:8080/",
          "height": 227
        },
        "outputId": "3a1ebde6-6502-4300-c108-fe1733f9d8d8"
      },
      "source": [
        "# In this cell I have mounted the data set and provided 1 example of the format the dataset is currently in.\n",
        "Movies = pd.read_csv('/content/gdrive/My Drive/Colab Datasets/rotten_tomatoes_movies.csv', index_col=0)\n",
        "Movies.head(1)"
      ],
      "execution_count": null,
      "outputs": [
        {
          "output_type": "execute_result",
          "data": {
            "text/html": [
              "<div>\n",
              "<style scoped>\n",
              "    .dataframe tbody tr th:only-of-type {\n",
              "        vertical-align: middle;\n",
              "    }\n",
              "\n",
              "    .dataframe tbody tr th {\n",
              "        vertical-align: top;\n",
              "    }\n",
              "\n",
              "    .dataframe thead th {\n",
              "        text-align: right;\n",
              "    }\n",
              "</style>\n",
              "<table border=\"1\" class=\"dataframe\">\n",
              "  <thead>\n",
              "    <tr style=\"text-align: right;\">\n",
              "      <th></th>\n",
              "      <th>movie_title</th>\n",
              "      <th>movie_info</th>\n",
              "      <th>critics_consensus</th>\n",
              "      <th>content_rating</th>\n",
              "      <th>genres</th>\n",
              "      <th>directors</th>\n",
              "      <th>authors</th>\n",
              "      <th>actors</th>\n",
              "      <th>original_release_date</th>\n",
              "      <th>streaming_release_date</th>\n",
              "      <th>runtime</th>\n",
              "      <th>production_company</th>\n",
              "      <th>tomatometer_status</th>\n",
              "      <th>tomatometer_rating</th>\n",
              "      <th>tomatometer_count</th>\n",
              "      <th>audience_status</th>\n",
              "      <th>audience_rating</th>\n",
              "      <th>audience_count</th>\n",
              "      <th>tomatometer_top_critics_count</th>\n",
              "      <th>tomatometer_fresh_critics_count</th>\n",
              "      <th>tomatometer_rotten_critics_count</th>\n",
              "    </tr>\n",
              "    <tr>\n",
              "      <th>rotten_tomatoes_link</th>\n",
              "      <th></th>\n",
              "      <th></th>\n",
              "      <th></th>\n",
              "      <th></th>\n",
              "      <th></th>\n",
              "      <th></th>\n",
              "      <th></th>\n",
              "      <th></th>\n",
              "      <th></th>\n",
              "      <th></th>\n",
              "      <th></th>\n",
              "      <th></th>\n",
              "      <th></th>\n",
              "      <th></th>\n",
              "      <th></th>\n",
              "      <th></th>\n",
              "      <th></th>\n",
              "      <th></th>\n",
              "      <th></th>\n",
              "      <th></th>\n",
              "      <th></th>\n",
              "    </tr>\n",
              "  </thead>\n",
              "  <tbody>\n",
              "    <tr>\n",
              "      <th>m/0814255</th>\n",
              "      <td>Percy Jackson &amp; the Olympians: The Lightning T...</td>\n",
              "      <td>Always trouble-prone, the life of teenager Per...</td>\n",
              "      <td>Though it may seem like just another Harry Pot...</td>\n",
              "      <td>PG</td>\n",
              "      <td>Action &amp; Adventure, Comedy, Drama, Science Fic...</td>\n",
              "      <td>Chris Columbus</td>\n",
              "      <td>Craig Titley, Chris Columbus, Rick Riordan</td>\n",
              "      <td>Logan Lerman, Brandon T. Jackson, Alexandra Da...</td>\n",
              "      <td>2010-02-12</td>\n",
              "      <td>2015-11-25</td>\n",
              "      <td>119.0</td>\n",
              "      <td>20th Century Fox</td>\n",
              "      <td>Rotten</td>\n",
              "      <td>49.0</td>\n",
              "      <td>149.0</td>\n",
              "      <td>Spilled</td>\n",
              "      <td>53.0</td>\n",
              "      <td>254421.0</td>\n",
              "      <td>43</td>\n",
              "      <td>73</td>\n",
              "      <td>76</td>\n",
              "    </tr>\n",
              "  </tbody>\n",
              "</table>\n",
              "</div>"
            ],
            "text/plain": [
              "                                                            movie_title  ... tomatometer_rotten_critics_count\n",
              "rotten_tomatoes_link                                                     ...                                 \n",
              "m/0814255             Percy Jackson & the Olympians: The Lightning T...  ...                               76\n",
              "\n",
              "[1 rows x 21 columns]"
            ]
          },
          "metadata": {
            "tags": []
          },
          "execution_count": 3
        }
      ]
    },
    {
      "cell_type": "code",
      "metadata": {
        "id": "YKUDIFc-4k54",
        "colab": {
          "base_uri": "https://localhost:8080/"
        },
        "outputId": "6bb16c23-3f04-480e-e0d2-5ab8da9cd949"
      },
      "source": [
        "Movies.info()"
      ],
      "execution_count": null,
      "outputs": [
        {
          "output_type": "stream",
          "text": [
            "<class 'pandas.core.frame.DataFrame'>\n",
            "Index: 17712 entries, m/0814255 to m/zulu_dawn\n",
            "Data columns (total 21 columns):\n",
            " #   Column                            Non-Null Count  Dtype  \n",
            "---  ------                            --------------  -----  \n",
            " 0   movie_title                       17712 non-null  object \n",
            " 1   movie_info                        17391 non-null  object \n",
            " 2   critics_consensus                 9134 non-null   object \n",
            " 3   content_rating                    17712 non-null  object \n",
            " 4   genres                            17693 non-null  object \n",
            " 5   directors                         17518 non-null  object \n",
            " 6   authors                           16170 non-null  object \n",
            " 7   actors                            17360 non-null  object \n",
            " 8   original_release_date             16546 non-null  object \n",
            " 9   streaming_release_date            17328 non-null  object \n",
            " 10  runtime                           17398 non-null  float64\n",
            " 11  production_company                17213 non-null  object \n",
            " 12  tomatometer_status                17668 non-null  object \n",
            " 13  tomatometer_rating                17668 non-null  float64\n",
            " 14  tomatometer_count                 17668 non-null  float64\n",
            " 15  audience_status                   17264 non-null  object \n",
            " 16  audience_rating                   17416 non-null  float64\n",
            " 17  audience_count                    17415 non-null  float64\n",
            " 18  tomatometer_top_critics_count     17712 non-null  int64  \n",
            " 19  tomatometer_fresh_critics_count   17712 non-null  int64  \n",
            " 20  tomatometer_rotten_critics_count  17712 non-null  int64  \n",
            "dtypes: float64(5), int64(3), object(13)\n",
            "memory usage: 3.0+ MB\n"
          ],
          "name": "stdout"
        }
      ]
    },
    {
      "cell_type": "code",
      "metadata": {
        "id": "xN2Os-jK5FRq"
      },
      "source": [
        "Movies['audience_rating'] = pd.to_numeric(Movies['audience_rating'])"
      ],
      "execution_count": null,
      "outputs": []
    },
    {
      "cell_type": "markdown",
      "metadata": {
        "id": "mTxwWRgjsP8X"
      },
      "source": [
        "# Section 2 - Filtering our lists.\n",
        "# In this section I will filter out anything unescessary for the test."
      ]
    },
    {
      "cell_type": "code",
      "metadata": {
        "id": "NFY72OrE4mQr"
      },
      "source": [
        "# Here I created a new filter titled Movies2 which selects only the columns we are using for this test\n",
        "Movies2 = Movies[['movie_title','genres','audience_rating','runtime']]"
      ],
      "execution_count": null,
      "outputs": []
    },
    {
      "cell_type": "code",
      "metadata": {
        "id": "KnovFDRruxgP"
      },
      "source": [
        "# I then created another filter Movies3 which only applies 1 genre which is horror.\n",
        "Movies3_filtered = Movies2[Movies2['genres'].isin(['Horror'])]"
      ],
      "execution_count": null,
      "outputs": []
    },
    {
      "cell_type": "code",
      "metadata": {
        "colab": {
          "base_uri": "https://localhost:8080/"
        },
        "id": "zDlAs71j6fKL",
        "outputId": "fd8a8448-db3f-4286-93aa-9b713fd95053"
      },
      "source": [
        "# I then wanted to see the info to my new filter.\n",
        "Movies3_filtered.info()"
      ],
      "execution_count": null,
      "outputs": [
        {
          "output_type": "stream",
          "text": [
            "<class 'pandas.core.frame.DataFrame'>\n",
            "Index: 456 entries, m/10004684-malevolence to m/zombi_2_1979\n",
            "Data columns (total 4 columns):\n",
            " #   Column           Non-Null Count  Dtype  \n",
            "---  ------           --------------  -----  \n",
            " 0   movie_title      456 non-null    object \n",
            " 1   genres           456 non-null    object \n",
            " 2   audience_rating  446 non-null    float64\n",
            " 3   runtime          446 non-null    float64\n",
            "dtypes: float64(2), object(2)\n",
            "memory usage: 17.8+ KB\n"
          ],
          "name": "stdout"
        }
      ]
    },
    {
      "cell_type": "code",
      "metadata": {
        "id": "XmwdFDdV4D4x"
      },
      "source": [
        "# Here I further sort our movies into a specific dynamic we want to look at.\n",
        "Movies3_filtered_rating = Movies3_filtered.loc[(Movies3_filtered['audience_rating'] >= 60) & (Movies3_filtered['runtime'] <= 180)]"
      ],
      "execution_count": null,
      "outputs": []
    },
    {
      "cell_type": "code",
      "metadata": {
        "id": "1cRCf2UTFTRF",
        "colab": {
          "base_uri": "https://localhost:8080/"
        },
        "outputId": "0ec06af4-e6ff-45ac-ca5c-764c308da177"
      },
      "source": [
        "# I then showed how many rows are in the section.\n",
        "Movies3_filtered.shape"
      ],
      "execution_count": null,
      "outputs": [
        {
          "output_type": "execute_result",
          "data": {
            "text/plain": [
              "(456, 4)"
            ]
          },
          "metadata": {
            "tags": []
          },
          "execution_count": 10
        }
      ]
    },
    {
      "cell_type": "code",
      "metadata": {
        "id": "YVdDkaM7Ed4z",
        "colab": {
          "base_uri": "https://localhost:8080/"
        },
        "outputId": "f3342b27-1797-4d59-820f-e6488b30d1d8"
      },
      "source": [
        "# Here I did a null check to see our null values.\n",
        "Movies3_filtered.isnull().sum()"
      ],
      "execution_count": null,
      "outputs": [
        {
          "output_type": "execute_result",
          "data": {
            "text/plain": [
              "movie_title         0\n",
              "genres              0\n",
              "audience_rating    10\n",
              "runtime            10\n",
              "dtype: int64"
            ]
          },
          "metadata": {
            "tags": []
          },
          "execution_count": 11
        }
      ]
    },
    {
      "cell_type": "code",
      "metadata": {
        "id": "hXLQ2Or-FiDo",
        "colab": {
          "base_uri": "https://localhost:8080/"
        },
        "outputId": "29dc6cd8-031b-46a0-ef42-9cc8845c96dd"
      },
      "source": [
        "# After seeing my null values in this section I remove them from my rows.\n",
        "Movies3_filtered.dropna(inplace=True)\n",
        "Movies3_filtered.shape"
      ],
      "execution_count": null,
      "outputs": [
        {
          "output_type": "stream",
          "text": [
            "/usr/local/lib/python3.7/dist-packages/ipykernel_launcher.py:2: SettingWithCopyWarning: \n",
            "A value is trying to be set on a copy of a slice from a DataFrame\n",
            "\n",
            "See the caveats in the documentation: https://pandas.pydata.org/pandas-docs/stable/user_guide/indexing.html#returning-a-view-versus-a-copy\n",
            "  \n"
          ],
          "name": "stderr"
        },
        {
          "output_type": "execute_result",
          "data": {
            "text/plain": [
              "(442, 4)"
            ]
          },
          "metadata": {
            "tags": []
          },
          "execution_count": 12
        }
      ]
    },
    {
      "cell_type": "markdown",
      "metadata": {
        "id": "r4Ye0YEnItOS"
      },
      "source": [
        "# Section 3 - Listing, Sorting and Visualizing - Horror Movies\n",
        "\n",
        "---\n",
        "\n"
      ]
    },
    {
      "cell_type": "markdown",
      "metadata": {
        "id": "cXjVFRIaIFrD"
      },
      "source": [
        "My hypothesis is that shorter horror movies are more popular. This can be tested by taking in a number of movies the horror genre. I will filter my movies from ratings above 60 and any runtime below 180 minutesand run a pearsonr test to see if there is a correlation between Runtime and Audience Rating. This is valuable to producers so they can see what is the optimal length for their movie and plan accordingly."
      ]
    },
    {
      "cell_type": "code",
      "metadata": {
        "id": "KYOUX8yN-o8c",
        "colab": {
          "base_uri": "https://localhost:8080/",
          "height": 225
        },
        "outputId": "cba1ed5c-7956-4ec6-da74-b9d934ca8fa8"
      },
      "source": [
        "# In the first cell I want to see what my new dataset looks like.\n",
        "Movies3_filtered.head()"
      ],
      "execution_count": null,
      "outputs": [
        {
          "output_type": "execute_result",
          "data": {
            "text/html": [
              "<div>\n",
              "<style scoped>\n",
              "    .dataframe tbody tr th:only-of-type {\n",
              "        vertical-align: middle;\n",
              "    }\n",
              "\n",
              "    .dataframe tbody tr th {\n",
              "        vertical-align: top;\n",
              "    }\n",
              "\n",
              "    .dataframe thead th {\n",
              "        text-align: right;\n",
              "    }\n",
              "</style>\n",
              "<table border=\"1\" class=\"dataframe\">\n",
              "  <thead>\n",
              "    <tr style=\"text-align: right;\">\n",
              "      <th></th>\n",
              "      <th>movie_title</th>\n",
              "      <th>genres</th>\n",
              "      <th>audience_rating</th>\n",
              "      <th>runtime</th>\n",
              "    </tr>\n",
              "    <tr>\n",
              "      <th>rotten_tomatoes_link</th>\n",
              "      <th></th>\n",
              "      <th></th>\n",
              "      <th></th>\n",
              "      <th></th>\n",
              "    </tr>\n",
              "  </thead>\n",
              "  <tbody>\n",
              "    <tr>\n",
              "      <th>m/10004684-malevolence</th>\n",
              "      <td>Malevolence</td>\n",
              "      <td>Horror</td>\n",
              "      <td>83.0</td>\n",
              "      <td>90.0</td>\n",
              "    </tr>\n",
              "    <tr>\n",
              "      <th>m/1001138-april_fools_day</th>\n",
              "      <td>April Fool's Day</td>\n",
              "      <td>Horror</td>\n",
              "      <td>47.0</td>\n",
              "      <td>89.0</td>\n",
              "    </tr>\n",
              "    <tr>\n",
              "      <th>m/1003625-carrie</th>\n",
              "      <td>Carrie</td>\n",
              "      <td>Horror</td>\n",
              "      <td>77.0</td>\n",
              "      <td>98.0</td>\n",
              "    </tr>\n",
              "    <tr>\n",
              "      <th>m/1005360-day_of_the_dead</th>\n",
              "      <td>Day of the Dead</td>\n",
              "      <td>Horror</td>\n",
              "      <td>75.0</td>\n",
              "      <td>102.0</td>\n",
              "    </tr>\n",
              "    <tr>\n",
              "      <th>m/1006068-dolls</th>\n",
              "      <td>Dolls</td>\n",
              "      <td>Horror</td>\n",
              "      <td>51.0</td>\n",
              "      <td>77.0</td>\n",
              "    </tr>\n",
              "  </tbody>\n",
              "</table>\n",
              "</div>"
            ],
            "text/plain": [
              "                                movie_title  genres  audience_rating  runtime\n",
              "rotten_tomatoes_link                                                         \n",
              "m/10004684-malevolence          Malevolence  Horror             83.0     90.0\n",
              "m/1001138-april_fools_day  April Fool's Day  Horror             47.0     89.0\n",
              "m/1003625-carrie                     Carrie  Horror             77.0     98.0\n",
              "m/1005360-day_of_the_dead   Day of the Dead  Horror             75.0    102.0\n",
              "m/1006068-dolls                       Dolls  Horror             51.0     77.0"
            ]
          },
          "metadata": {
            "tags": []
          },
          "execution_count": 13
        }
      ]
    },
    {
      "cell_type": "code",
      "metadata": {
        "id": "XNg9-aVTBRoM",
        "colab": {
          "base_uri": "https://localhost:8080/",
          "height": 225
        },
        "outputId": "04953dab-964a-4fa0-f9a1-77d803c15c6b"
      },
      "source": [
        "# I then take it a step farther and sort by runtime so we can easily see the top runtime vs low runtime.\n",
        "Movies3_filtered.sort_values('runtime').iloc[0:5]"
      ],
      "execution_count": null,
      "outputs": [
        {
          "output_type": "execute_result",
          "data": {
            "text/html": [
              "<div>\n",
              "<style scoped>\n",
              "    .dataframe tbody tr th:only-of-type {\n",
              "        vertical-align: middle;\n",
              "    }\n",
              "\n",
              "    .dataframe tbody tr th {\n",
              "        vertical-align: top;\n",
              "    }\n",
              "\n",
              "    .dataframe thead th {\n",
              "        text-align: right;\n",
              "    }\n",
              "</style>\n",
              "<table border=\"1\" class=\"dataframe\">\n",
              "  <thead>\n",
              "    <tr style=\"text-align: right;\">\n",
              "      <th></th>\n",
              "      <th>movie_title</th>\n",
              "      <th>genres</th>\n",
              "      <th>audience_rating</th>\n",
              "      <th>runtime</th>\n",
              "    </tr>\n",
              "    <tr>\n",
              "      <th>rotten_tomatoes_link</th>\n",
              "      <th></th>\n",
              "      <th></th>\n",
              "      <th></th>\n",
              "      <th></th>\n",
              "    </tr>\n",
              "  </thead>\n",
              "  <tbody>\n",
              "    <tr>\n",
              "      <th>m/rammbock_berlin_undead</th>\n",
              "      <td>Rammbock: Berlin Undead</td>\n",
              "      <td>Horror</td>\n",
              "      <td>59.0</td>\n",
              "      <td>59.0</td>\n",
              "    </tr>\n",
              "    <tr>\n",
              "      <th>m/mummys_ghost</th>\n",
              "      <td>The Mummy's Ghost</td>\n",
              "      <td>Horror</td>\n",
              "      <td>20.0</td>\n",
              "      <td>60.0</td>\n",
              "    </tr>\n",
              "    <tr>\n",
              "      <th>m/manborg</th>\n",
              "      <td>Manborg</td>\n",
              "      <td>Horror</td>\n",
              "      <td>57.0</td>\n",
              "      <td>70.0</td>\n",
              "    </tr>\n",
              "    <tr>\n",
              "      <th>m/aquaslash</th>\n",
              "      <td>Aquaslash</td>\n",
              "      <td>Horror</td>\n",
              "      <td>27.0</td>\n",
              "      <td>71.0</td>\n",
              "    </tr>\n",
              "    <tr>\n",
              "      <th>m/slumber_party_massacre</th>\n",
              "      <td>The Slumber Party Massacre</td>\n",
              "      <td>Horror</td>\n",
              "      <td>44.0</td>\n",
              "      <td>73.0</td>\n",
              "    </tr>\n",
              "  </tbody>\n",
              "</table>\n",
              "</div>"
            ],
            "text/plain": [
              "                                         movie_title  ... runtime\n",
              "rotten_tomatoes_link                                  ...        \n",
              "m/rammbock_berlin_undead     Rammbock: Berlin Undead  ...    59.0\n",
              "m/mummys_ghost                     The Mummy's Ghost  ...    60.0\n",
              "m/manborg                                    Manborg  ...    70.0\n",
              "m/aquaslash                                Aquaslash  ...    71.0\n",
              "m/slumber_party_massacre  The Slumber Party Massacre  ...    73.0\n",
              "\n",
              "[5 rows x 4 columns]"
            ]
          },
          "metadata": {
            "tags": []
          },
          "execution_count": 14
        }
      ]
    },
    {
      "cell_type": "code",
      "metadata": {
        "id": "1pMf9RObsGqM",
        "colab": {
          "base_uri": "https://localhost:8080/"
        },
        "outputId": "2727d9da-de06-4788-9b1a-becabec91891"
      },
      "source": [
        "# I then run my pearsonr test to see the correlation between runtime and audience rating. \n",
        "stats.pearsonr(Movies3_filtered_rating['runtime'],Movies3_filtered_rating['audience_rating'])"
      ],
      "execution_count": null,
      "outputs": [
        {
          "output_type": "execute_result",
          "data": {
            "text/plain": [
              "(0.063921519096992, 0.5963934329330153)"
            ]
          },
          "metadata": {
            "tags": []
          },
          "execution_count": 15
        }
      ]
    },
    {
      "cell_type": "markdown",
      "metadata": {
        "id": "sxXfVNu_xqKU"
      },
      "source": [
        "# As we can see from the pearsonr test there is little to no correlation to support my hypothesis."
      ]
    },
    {
      "cell_type": "code",
      "metadata": {
        "id": "0hG-gY2YxSrl",
        "colab": {
          "base_uri": "https://localhost:8080/",
          "height": 350
        },
        "outputId": "3fa2ec6b-fa0b-4a63-9df5-e3ed0b04fa93"
      },
      "source": [
        "# After running our personr test it is timme to show a scatterpoint graph to visualize our data. \n",
        "# As you can see from our graph there is little to no correlation. \n",
        "plt.figure(figsize=(10,5))\n",
        "sns.scatterplot(x=\"runtime\", y=\"audience_rating\", data=Movies3_filtered_rating)\n",
        "plt.xlabel(\"Runtime\")\n",
        "plt.ylabel(\"Audience Rating\")\n",
        "plt.title('Horror Movie Popularity vs Runtime')\n",
        "plt.show()"
      ],
      "execution_count": null,
      "outputs": [
        {
          "output_type": "display_data",
          "data": {
            "image/png": "[encoded data removed]",
            "text/plain": [
              "<Figure size 720x360 with 1 Axes>"
            ]
          },
          "metadata": {
            "tags": [],
            "needs_background": "light"
          }
        }
      ]
    },
    {
      "cell_type": "code",
      "metadata": {
        "colab": {
          "base_uri": "https://localhost:8080/",
          "height": 314
        },
        "id": "5ml-e66egKHc",
        "outputId": "0ac9d504-c46b-4294-c1ff-2f1c15d9eca4"
      },
      "source": [
        "# After running our personr test it is timme to show a boxplot graph to visualize our data. \n",
        "Movies3_filtered_rating.hist(column ='runtime')"
      ],
      "execution_count": null,
      "outputs": [
        {
          "output_type": "execute_result",
          "data": {
            "text/plain": [
              "array([[<matplotlib.axes._subplots.AxesSubplot object at 0x7fb3fe1d1290>]],\n",
              "      dtype=object)"
            ]
          },
          "metadata": {
            "tags": []
          },
          "execution_count": 17
        },
        {
          "output_type": "display_data",
          "data": {
            "image/png": "[encoded data removed]",
            "text/plain": [
              "<Figure size 432x288 with 1 Axes>"
            ]
          },
          "metadata": {
            "tags": [],
            "needs_background": "light"
          }
        }
      ]
    },
    {
      "cell_type": "code",
      "metadata": {
        "colab": {
          "base_uri": "https://localhost:8080/",
          "height": 314
        },
        "id": "dy9hFmlZvJDA",
        "outputId": "239dbef5-e3c8-4aee-f33f-85bd3d7143a7"
      },
      "source": [
        "# After running our personr test it is timme to show a boxplot graph to visualize our data. \n",
        "Movies3_filtered_rating.hist(column ='audience_rating')"
      ],
      "execution_count": null,
      "outputs": [
        {
          "output_type": "execute_result",
          "data": {
            "text/plain": [
              "array([[<matplotlib.axes._subplots.AxesSubplot object at 0x7fb4147d7310>]],\n",
              "      dtype=object)"
            ]
          },
          "metadata": {
            "tags": []
          },
          "execution_count": 18
        },
        {
          "output_type": "display_data",
          "data": {
            "image/png": "[encoded data removed]",
            "text/plain": [
              "<Figure size 432x288 with 1 Axes>"
            ]
          },
          "metadata": {
            "tags": [],
            "needs_background": "light"
          }
        }
      ]
    },
    {
      "cell_type": "code",
      "metadata": {
        "id": "9TAnC2kvqRVg"
      },
      "source": [
        "# Here I created a new filter titled Movies2 which selects only the columns we are using for this test\n",
        "Movies5 = Movies[['movie_title','genres','audience_rating','runtime','audience_count']]"
      ],
      "execution_count": null,
      "outputs": []
    },
    {
      "cell_type": "code",
      "metadata": {
        "id": "xMDgv0hSq_JR"
      },
      "source": [
        "# I then created another filter Movies3 which only applies 1 genre which is horror.\n",
        "Movies5_filtered = Movies5[Movies5['genres'].isin(['Horror'])]"
      ],
      "execution_count": null,
      "outputs": []
    },
    {
      "cell_type": "code",
      "metadata": {
        "id": "tqUWaMTRrdlu"
      },
      "source": [
        "# Here I further sort our movies into a specific dynamic we want to look at.\n",
        "Movies5_filtered_rating = Movies5_filtered.loc[(Movies5_filtered['audience_count'] <= 150000) & (Movies5_filtered['audience_count'] > 20000)]"
      ],
      "execution_count": null,
      "outputs": []
    },
    {
      "cell_type": "code",
      "metadata": {
        "colab": {
          "base_uri": "https://localhost:8080/"
        },
        "id": "oSZ0N5kUq8J5",
        "outputId": "e6bf03f1-3ccf-4734-c2de-4b859352a366"
      },
      "source": [
        "Movies5_filtered.dropna(inplace=True)\n",
        "Movies5_filtered.shape"
      ],
      "execution_count": null,
      "outputs": [
        {
          "output_type": "stream",
          "text": [
            "/usr/local/lib/python3.7/dist-packages/ipykernel_launcher.py:1: SettingWithCopyWarning: \n",
            "A value is trying to be set on a copy of a slice from a DataFrame\n",
            "\n",
            "See the caveats in the documentation: https://pandas.pydata.org/pandas-docs/stable/user_guide/indexing.html#returning-a-view-versus-a-copy\n",
            "  \"\"\"Entry point for launching an IPython kernel.\n"
          ],
          "name": "stderr"
        },
        {
          "output_type": "execute_result",
          "data": {
            "text/plain": [
              "(442, 5)"
            ]
          },
          "metadata": {
            "tags": []
          },
          "execution_count": 33
        }
      ]
    },
    {
      "cell_type": "code",
      "metadata": {
        "colab": {
          "base_uri": "https://localhost:8080/"
        },
        "id": "0prCGXIKrvac",
        "outputId": "ee416186-1e04-4519-a180-59fce6770247"
      },
      "source": [
        "# I then run my pearsonr test to see the correlation between audience rating and audience count.\n",
        "stats.pearsonr(Movies5_filtered_rating['audience_rating'],Movies5_filtered_rating['audience_count'])"
      ],
      "execution_count": null,
      "outputs": [
        {
          "output_type": "execute_result",
          "data": {
            "text/plain": [
              "(0.20888534028789066, 0.0740883800435584)"
            ]
          },
          "metadata": {
            "tags": []
          },
          "execution_count": 91
        }
      ]
    },
    {
      "cell_type": "code",
      "metadata": {
        "colab": {
          "base_uri": "https://localhost:8080/",
          "height": 350
        },
        "id": "yXoAjekZsH9a",
        "outputId": "60f41a63-c643-42dc-f012-c9d0a295793e"
      },
      "source": [
        "# After running our personr test it is timme to show a scatterpoint graph to visualize our data. \n",
        "# As you can see from our graph there is a little to no correlation. \n",
        "plt.figure(figsize=(10,5))\n",
        "sns.scatterplot(x=\"audience_count\", y=\"audience_rating\", data=Movies5_filtered_rating)\n",
        "plt.xlabel(\"Audience Count\")\n",
        "plt.ylabel(\"Audience Rating\")\n",
        "plt.title('Horror Movie Popularity vs Audience Count')\n",
        "plt.show()"
      ],
      "execution_count": null,
      "outputs": [
        {
          "output_type": "display_data",
          "data": {
            "image/png": "[encoded data removed]",
            "text/plain": [
              "<Figure size 720x360 with 1 Axes>"
            ]
          },
          "metadata": {
            "tags": [],
            "needs_background": "light"
          }
        }
      ]
    },
    {
      "cell_type": "code",
      "metadata": {
        "colab": {
          "base_uri": "https://localhost:8080/",
          "height": 314
        },
        "id": "fQHLkBuDxIpT",
        "outputId": "db78eeb9-acf2-49b5-f907-9be61826f1ff"
      },
      "source": [
        "Movies5_filtered_rating.hist(column ='audience_count')"
      ],
      "execution_count": null,
      "outputs": [
        {
          "output_type": "execute_result",
          "data": {
            "text/plain": [
              "array([[<matplotlib.axes._subplots.AxesSubplot object at 0x7fb3fdd81190>]],\n",
              "      dtype=object)"
            ]
          },
          "metadata": {
            "tags": []
          },
          "execution_count": 92
        },
        {
          "output_type": "display_data",
          "data": {
            "image/png": "[encoded data removed]",
            "text/plain": [
              "<Figure size 432x288 with 1 Axes>"
            ]
          },
          "metadata": {
            "tags": [],
            "needs_background": "light"
          }
        }
      ]
    },
    {
      "cell_type": "code",
      "metadata": {
        "colab": {
          "base_uri": "https://localhost:8080/",
          "height": 314
        },
        "id": "8qsezmZLxOZw",
        "outputId": "20adf466-48ee-4e37-ba71-3b580ee52af4"
      },
      "source": [
        "Movies5_filtered_rating.hist(column ='audience_rating')"
      ],
      "execution_count": null,
      "outputs": [
        {
          "output_type": "execute_result",
          "data": {
            "text/plain": [
              "array([[<matplotlib.axes._subplots.AxesSubplot object at 0x7fb3fdc5b910>]],\n",
              "      dtype=object)"
            ]
          },
          "metadata": {
            "tags": []
          },
          "execution_count": 93
        },
        {
          "output_type": "display_data",
          "data": {
            "image/png": "[encoded data removed]",
            "text/plain": [
              "<Figure size 432x288 with 1 Axes>"
            ]
          },
          "metadata": {
            "tags": [],
            "needs_background": "light"
          }
        }
      ]
    },
    {
      "cell_type": "markdown",
      "metadata": {
        "id": "aCSi-24xUF1m"
      },
      "source": [
        "# Section 4 - Listing, Sorting and Visualizing - Action Movies"
      ]
    },
    {
      "cell_type": "markdown",
      "metadata": {
        "id": "I_YrNplHWRdQ"
      },
      "source": [
        "My hypothesis is that longer action movies are more popular. This can be tested by taking in a number of movies the horror genre. I will filter my movies from ratings above 60 and any runtime below 180 minutesand run a pearsonr test to see if there is a correlation between Runtime and Audience Rating. This is valuable to producers so they can see what is the optimal length for their movie and plan accordingly."
      ]
    },
    {
      "cell_type": "code",
      "metadata": {
        "id": "VGEtsB5Xl0cR"
      },
      "source": [
        "# I created another filter Movies4 which only applies 1 genre which is action & adventure.\n",
        "Movies4_filtered = Movies2[Movies2['genres'].isin(['Action & Adventure'])]"
      ],
      "execution_count": null,
      "outputs": []
    },
    {
      "cell_type": "code",
      "metadata": {
        "colab": {
          "base_uri": "https://localhost:8080/"
        },
        "id": "dc0VN3dMVgF2",
        "outputId": "c5ea7605-2df2-4a57-a532-94865793a817"
      },
      "source": [
        "# I then wanted to see the info to my new filter.\n",
        "Movies4_filtered.info()"
      ],
      "execution_count": null,
      "outputs": [
        {
          "output_type": "stream",
          "text": [
            "<class 'pandas.core.frame.DataFrame'>\n",
            "Index: 204 entries, m/10010153-bitch_slap to m/xxx_state_of_the_union\n",
            "Data columns (total 4 columns):\n",
            " #   Column           Non-Null Count  Dtype  \n",
            "---  ------           --------------  -----  \n",
            " 0   movie_title      204 non-null    object \n",
            " 1   genres           204 non-null    object \n",
            " 2   audience_rating  204 non-null    float64\n",
            " 3   runtime          202 non-null    float64\n",
            "dtypes: float64(2), object(2)\n",
            "memory usage: 8.0+ KB\n"
          ],
          "name": "stdout"
        }
      ]
    },
    {
      "cell_type": "code",
      "metadata": {
        "id": "m6VI-KyxVw7D"
      },
      "source": [
        "# Here I further sort our movies into a specific dynamic we want to look at.\n",
        "Movies4_filtered_rating = Movies4_filtered.loc[(Movies4_filtered['audience_rating'] >= 60) & (Movies4_filtered['runtime'] <= 180)]"
      ],
      "execution_count": null,
      "outputs": []
    },
    {
      "cell_type": "code",
      "metadata": {
        "id": "gQMfaOQ4V9gH",
        "colab": {
          "base_uri": "https://localhost:8080/"
        },
        "outputId": "8363cc25-bf4e-4c98-d140-ebad02fe6a5a"
      },
      "source": [
        "# I then showed how many rows are in the section.\n",
        "Movies4_filtered.shape"
      ],
      "execution_count": null,
      "outputs": [
        {
          "output_type": "execute_result",
          "data": {
            "text/plain": [
              "(204, 4)"
            ]
          },
          "metadata": {
            "tags": []
          },
          "execution_count": 23
        }
      ]
    },
    {
      "cell_type": "code",
      "metadata": {
        "colab": {
          "base_uri": "https://localhost:8080/"
        },
        "id": "QGl4Yv-NWIMj",
        "outputId": "e048be22-080f-420c-ca50-5bf0a7ddacad"
      },
      "source": [
        "# Here I did a null check to see our null values.\n",
        "Movies4_filtered.isnull().sum()"
      ],
      "execution_count": null,
      "outputs": [
        {
          "output_type": "execute_result",
          "data": {
            "text/plain": [
              "movie_title        0\n",
              "genres             0\n",
              "audience_rating    0\n",
              "runtime            2\n",
              "dtype: int64"
            ]
          },
          "metadata": {
            "tags": []
          },
          "execution_count": 24
        }
      ]
    },
    {
      "cell_type": "code",
      "metadata": {
        "id": "ElOktJe0WCVl",
        "colab": {
          "base_uri": "https://localhost:8080/"
        },
        "outputId": "7aa4a4cf-488d-4e3f-c910-15e24c156b5d"
      },
      "source": [
        "# After seeing my null values in this section I remove them from my rows.\n",
        "Movies4_filtered.dropna(inplace=True)\n",
        "Movies4_filtered.shape"
      ],
      "execution_count": null,
      "outputs": [
        {
          "output_type": "stream",
          "text": [
            "/usr/local/lib/python3.7/dist-packages/ipykernel_launcher.py:2: SettingWithCopyWarning: \n",
            "A value is trying to be set on a copy of a slice from a DataFrame\n",
            "\n",
            "See the caveats in the documentation: https://pandas.pydata.org/pandas-docs/stable/user_guide/indexing.html#returning-a-view-versus-a-copy\n",
            "  \n"
          ],
          "name": "stderr"
        },
        {
          "output_type": "execute_result",
          "data": {
            "text/plain": [
              "(202, 4)"
            ]
          },
          "metadata": {
            "tags": []
          },
          "execution_count": 25
        }
      ]
    },
    {
      "cell_type": "code",
      "metadata": {
        "id": "y3BhJdnGmK4W",
        "colab": {
          "base_uri": "https://localhost:8080/",
          "height": 225
        },
        "outputId": "84588834-649c-4e91-9603-67673138659f"
      },
      "source": [
        "# In the first cell I want to see what my new dataset looks like.\n",
        "Movies4_filtered.head()"
      ],
      "execution_count": null,
      "outputs": [
        {
          "output_type": "execute_result",
          "data": {
            "text/html": [
              "<div>\n",
              "<style scoped>\n",
              "    .dataframe tbody tr th:only-of-type {\n",
              "        vertical-align: middle;\n",
              "    }\n",
              "\n",
              "    .dataframe tbody tr th {\n",
              "        vertical-align: top;\n",
              "    }\n",
              "\n",
              "    .dataframe thead th {\n",
              "        text-align: right;\n",
              "    }\n",
              "</style>\n",
              "<table border=\"1\" class=\"dataframe\">\n",
              "  <thead>\n",
              "    <tr style=\"text-align: right;\">\n",
              "      <th></th>\n",
              "      <th>movie_title</th>\n",
              "      <th>genres</th>\n",
              "      <th>audience_rating</th>\n",
              "      <th>runtime</th>\n",
              "    </tr>\n",
              "    <tr>\n",
              "      <th>rotten_tomatoes_link</th>\n",
              "      <th></th>\n",
              "      <th></th>\n",
              "      <th></th>\n",
              "      <th></th>\n",
              "    </tr>\n",
              "  </thead>\n",
              "  <tbody>\n",
              "    <tr>\n",
              "      <th>m/10010153-bitch_slap</th>\n",
              "      <td>Bitch Slap</td>\n",
              "      <td>Action &amp; Adventure</td>\n",
              "      <td>29.0</td>\n",
              "      <td>104.0</td>\n",
              "    </tr>\n",
              "    <tr>\n",
              "      <th>m/1003060-breakout</th>\n",
              "      <td>Breakout</td>\n",
              "      <td>Action &amp; Adventure</td>\n",
              "      <td>41.0</td>\n",
              "      <td>96.0</td>\n",
              "    </tr>\n",
              "    <tr>\n",
              "      <th>m/1004567-commando</th>\n",
              "      <td>Commando</td>\n",
              "      <td>Action &amp; Adventure</td>\n",
              "      <td>67.0</td>\n",
              "      <td>90.0</td>\n",
              "    </tr>\n",
              "    <tr>\n",
              "      <th>m/1014008-missing_in_action</th>\n",
              "      <td>Missing in Action</td>\n",
              "      <td>Action &amp; Adventure</td>\n",
              "      <td>42.0</td>\n",
              "      <td>102.0</td>\n",
              "    </tr>\n",
              "    <tr>\n",
              "      <th>m/1015095-nighthawks</th>\n",
              "      <td>Nighthawks</td>\n",
              "      <td>Action &amp; Adventure</td>\n",
              "      <td>54.0</td>\n",
              "      <td>99.0</td>\n",
              "    </tr>\n",
              "  </tbody>\n",
              "</table>\n",
              "</div>"
            ],
            "text/plain": [
              "                                   movie_title  ... runtime\n",
              "rotten_tomatoes_link                            ...        \n",
              "m/10010153-bitch_slap               Bitch Slap  ...   104.0\n",
              "m/1003060-breakout                    Breakout  ...    96.0\n",
              "m/1004567-commando                    Commando  ...    90.0\n",
              "m/1014008-missing_in_action  Missing in Action  ...   102.0\n",
              "m/1015095-nighthawks                Nighthawks  ...    99.0\n",
              "\n",
              "[5 rows x 4 columns]"
            ]
          },
          "metadata": {
            "tags": []
          },
          "execution_count": 26
        }
      ]
    },
    {
      "cell_type": "code",
      "metadata": {
        "id": "sJSARPeAmOcs",
        "colab": {
          "base_uri": "https://localhost:8080/",
          "height": 1000
        },
        "outputId": "7210c0d4-bda6-47d6-f370-0ddd3507b6e7"
      },
      "source": [
        "# I then take it a step farther and sort by runtime so we can easily see the top runtime vs low runtime.\n",
        "Movies4_filtered.sort_values('runtime').iloc[0:60]"
      ],
      "execution_count": null,
      "outputs": [
        {
          "output_type": "execute_result",
          "data": {
            "text/html": [
              "<div>\n",
              "<style scoped>\n",
              "    .dataframe tbody tr th:only-of-type {\n",
              "        vertical-align: middle;\n",
              "    }\n",
              "\n",
              "    .dataframe tbody tr th {\n",
              "        vertical-align: top;\n",
              "    }\n",
              "\n",
              "    .dataframe thead th {\n",
              "        text-align: right;\n",
              "    }\n",
              "</style>\n",
              "<table border=\"1\" class=\"dataframe\">\n",
              "  <thead>\n",
              "    <tr style=\"text-align: right;\">\n",
              "      <th></th>\n",
              "      <th>movie_title</th>\n",
              "      <th>genres</th>\n",
              "      <th>audience_rating</th>\n",
              "      <th>runtime</th>\n",
              "    </tr>\n",
              "    <tr>\n",
              "      <th>rotten_tomatoes_link</th>\n",
              "      <th></th>\n",
              "      <th></th>\n",
              "      <th></th>\n",
              "      <th></th>\n",
              "    </tr>\n",
              "  </thead>\n",
              "  <tbody>\n",
              "    <tr>\n",
              "      <th>m/justice_league_gods_and_monsters</th>\n",
              "      <td>Justice League: Gods and Monsters</td>\n",
              "      <td>Action &amp; Adventure</td>\n",
              "      <td>71.0</td>\n",
              "      <td>72.0</td>\n",
              "    </tr>\n",
              "    <tr>\n",
              "      <th>m/bring_me_the_head_of_the_machine_gun_woman</th>\n",
              "      <td>Bring Me the Head of the Machine Gun Woman (Tr...</td>\n",
              "      <td>Action &amp; Adventure</td>\n",
              "      <td>43.0</td>\n",
              "      <td>75.0</td>\n",
              "    </tr>\n",
              "    <tr>\n",
              "      <th>m/antboy</th>\n",
              "      <td>Antboy</td>\n",
              "      <td>Action &amp; Adventure</td>\n",
              "      <td>36.0</td>\n",
              "      <td>77.0</td>\n",
              "    </tr>\n",
              "    <tr>\n",
              "      <th>m/intensive_care</th>\n",
              "      <td>Intensive Care</td>\n",
              "      <td>Action &amp; Adventure</td>\n",
              "      <td>14.0</td>\n",
              "      <td>80.0</td>\n",
              "    </tr>\n",
              "    <tr>\n",
              "      <th>m/1129132-torque</th>\n",
              "      <td>Torque</td>\n",
              "      <td>Action &amp; Adventure</td>\n",
              "      <td>41.0</td>\n",
              "      <td>81.0</td>\n",
              "    </tr>\n",
              "    <tr>\n",
              "      <th>m/blind_fury</th>\n",
              "      <td>Blind Fury</td>\n",
              "      <td>Action &amp; Adventure</td>\n",
              "      <td>51.0</td>\n",
              "      <td>82.0</td>\n",
              "    </tr>\n",
              "    <tr>\n",
              "      <th>m/arme_riddere</th>\n",
              "      <td>Jackpot</td>\n",
              "      <td>Action &amp; Adventure</td>\n",
              "      <td>55.0</td>\n",
              "      <td>82.0</td>\n",
              "    </tr>\n",
              "    <tr>\n",
              "      <th>m/passenger_57</th>\n",
              "      <td>Passenger 57</td>\n",
              "      <td>Action &amp; Adventure</td>\n",
              "      <td>38.0</td>\n",
              "      <td>83.0</td>\n",
              "    </tr>\n",
              "    <tr>\n",
              "      <th>m/the_last_heist</th>\n",
              "      <td>The Last Heist</td>\n",
              "      <td>Action &amp; Adventure</td>\n",
              "      <td>12.0</td>\n",
              "      <td>84.0</td>\n",
              "    </tr>\n",
              "    <tr>\n",
              "      <th>m/vigilante_diaries</th>\n",
              "      <td>Vigilante Diaries</td>\n",
              "      <td>Action &amp; Adventure</td>\n",
              "      <td>69.0</td>\n",
              "      <td>84.0</td>\n",
              "    </tr>\n",
              "    <tr>\n",
              "      <th>m/anarchy</th>\n",
              "      <td>Cymbeline</td>\n",
              "      <td>Action &amp; Adventure</td>\n",
              "      <td>14.0</td>\n",
              "      <td>85.0</td>\n",
              "    </tr>\n",
              "    <tr>\n",
              "      <th>m/acceleration</th>\n",
              "      <td>Acceleration</td>\n",
              "      <td>Action &amp; Adventure</td>\n",
              "      <td>20.0</td>\n",
              "      <td>85.0</td>\n",
              "    </tr>\n",
              "    <tr>\n",
              "      <th>m/fire_birds</th>\n",
              "      <td>Fire Birds</td>\n",
              "      <td>Action &amp; Adventure</td>\n",
              "      <td>36.0</td>\n",
              "      <td>85.0</td>\n",
              "    </tr>\n",
              "    <tr>\n",
              "      <th>m/replacement_killers</th>\n",
              "      <td>The Replacement Killers</td>\n",
              "      <td>Action &amp; Adventure</td>\n",
              "      <td>47.0</td>\n",
              "      <td>86.0</td>\n",
              "    </tr>\n",
              "    <tr>\n",
              "      <th>m/gun_shy_2017</th>\n",
              "      <td>Gun Shy</td>\n",
              "      <td>Action &amp; Adventure</td>\n",
              "      <td>37.0</td>\n",
              "      <td>86.0</td>\n",
              "    </tr>\n",
              "    <tr>\n",
              "      <th>m/age_of_kill</th>\n",
              "      <td>Age Of Kill</td>\n",
              "      <td>Action &amp; Adventure</td>\n",
              "      <td>32.0</td>\n",
              "      <td>86.0</td>\n",
              "    </tr>\n",
              "    <tr>\n",
              "      <th>m/hobo_with_a_shotgun</th>\n",
              "      <td>Hobo With a Shotgun</td>\n",
              "      <td>Action &amp; Adventure</td>\n",
              "      <td>57.0</td>\n",
              "      <td>86.0</td>\n",
              "    </tr>\n",
              "    <tr>\n",
              "      <th>m/sword_of_vengeance</th>\n",
              "      <td>Sword Of Vengeance</td>\n",
              "      <td>Action &amp; Adventure</td>\n",
              "      <td>19.0</td>\n",
              "      <td>87.0</td>\n",
              "    </tr>\n",
              "    <tr>\n",
              "      <th>m/transporter_2</th>\n",
              "      <td>Transporter 2</td>\n",
              "      <td>Action &amp; Adventure</td>\n",
              "      <td>58.0</td>\n",
              "      <td>88.0</td>\n",
              "    </tr>\n",
              "    <tr>\n",
              "      <th>m/trading_paint</th>\n",
              "      <td>Trading Paint</td>\n",
              "      <td>Action &amp; Adventure</td>\n",
              "      <td>35.0</td>\n",
              "      <td>88.0</td>\n",
              "    </tr>\n",
              "    <tr>\n",
              "      <th>m/lucy_2014</th>\n",
              "      <td>Lucy</td>\n",
              "      <td>Action &amp; Adventure</td>\n",
              "      <td>47.0</td>\n",
              "      <td>88.0</td>\n",
              "    </tr>\n",
              "    <tr>\n",
              "      <th>m/black_dog</th>\n",
              "      <td>Black Dog</td>\n",
              "      <td>Action &amp; Adventure</td>\n",
              "      <td>60.0</td>\n",
              "      <td>88.0</td>\n",
              "    </tr>\n",
              "    <tr>\n",
              "      <th>m/earth_to_echo</th>\n",
              "      <td>Earth to Echo</td>\n",
              "      <td>Action &amp; Adventure</td>\n",
              "      <td>47.0</td>\n",
              "      <td>89.0</td>\n",
              "    </tr>\n",
              "    <tr>\n",
              "      <th>m/getaway</th>\n",
              "      <td>Getaway</td>\n",
              "      <td>Action &amp; Adventure</td>\n",
              "      <td>35.0</td>\n",
              "      <td>89.0</td>\n",
              "    </tr>\n",
              "    <tr>\n",
              "      <th>m/1116741-derailed</th>\n",
              "      <td>Derailed</td>\n",
              "      <td>Action &amp; Adventure</td>\n",
              "      <td>21.0</td>\n",
              "      <td>89.0</td>\n",
              "    </tr>\n",
              "    <tr>\n",
              "      <th>m/kickboxer_2</th>\n",
              "      <td>Kickboxer 2: The Road Back</td>\n",
              "      <td>Action &amp; Adventure</td>\n",
              "      <td>31.0</td>\n",
              "      <td>89.0</td>\n",
              "    </tr>\n",
              "    <tr>\n",
              "      <th>m/1083461-avengers</th>\n",
              "      <td>The Avengers</td>\n",
              "      <td>Action &amp; Adventure</td>\n",
              "      <td>15.0</td>\n",
              "      <td>89.0</td>\n",
              "    </tr>\n",
              "    <tr>\n",
              "      <th>m/1047928-gunmen</th>\n",
              "      <td>Gunmen</td>\n",
              "      <td>Action &amp; Adventure</td>\n",
              "      <td>35.0</td>\n",
              "      <td>90.0</td>\n",
              "    </tr>\n",
              "    <tr>\n",
              "      <th>m/dolemite</th>\n",
              "      <td>Dolemite</td>\n",
              "      <td>Action &amp; Adventure</td>\n",
              "      <td>67.0</td>\n",
              "      <td>90.0</td>\n",
              "    </tr>\n",
              "    <tr>\n",
              "      <th>m/kite_2014</th>\n",
              "      <td>Kite</td>\n",
              "      <td>Action &amp; Adventure</td>\n",
              "      <td>18.0</td>\n",
              "      <td>90.0</td>\n",
              "    </tr>\n",
              "    <tr>\n",
              "      <th>m/heist_2015</th>\n",
              "      <td>Heist</td>\n",
              "      <td>Action &amp; Adventure</td>\n",
              "      <td>41.0</td>\n",
              "      <td>90.0</td>\n",
              "    </tr>\n",
              "    <tr>\n",
              "      <th>m/death_wish_3</th>\n",
              "      <td>Death Wish 3</td>\n",
              "      <td>Action &amp; Adventure</td>\n",
              "      <td>54.0</td>\n",
              "      <td>90.0</td>\n",
              "    </tr>\n",
              "    <tr>\n",
              "      <th>m/sharknado_2_the_second_one</th>\n",
              "      <td>Sharknado 2: The Second One</td>\n",
              "      <td>Action &amp; Adventure</td>\n",
              "      <td>31.0</td>\n",
              "      <td>90.0</td>\n",
              "    </tr>\n",
              "    <tr>\n",
              "      <th>m/close_range</th>\n",
              "      <td>Close Range</td>\n",
              "      <td>Action &amp; Adventure</td>\n",
              "      <td>27.0</td>\n",
              "      <td>90.0</td>\n",
              "    </tr>\n",
              "    <tr>\n",
              "      <th>m/1004567-commando</th>\n",
              "      <td>Commando</td>\n",
              "      <td>Action &amp; Adventure</td>\n",
              "      <td>67.0</td>\n",
              "      <td>90.0</td>\n",
              "    </tr>\n",
              "    <tr>\n",
              "      <th>m/justice_league_dark_apokolips_war</th>\n",
              "      <td>Justice League Dark: Apokolips War</td>\n",
              "      <td>Action &amp; Adventure</td>\n",
              "      <td>91.0</td>\n",
              "      <td>90.0</td>\n",
              "    </tr>\n",
              "    <tr>\n",
              "      <th>m/miami_connection</th>\n",
              "      <td>Miami Connection</td>\n",
              "      <td>Action &amp; Adventure</td>\n",
              "      <td>64.0</td>\n",
              "      <td>90.0</td>\n",
              "    </tr>\n",
              "    <tr>\n",
              "      <th>m/wolves</th>\n",
              "      <td>Wolves</td>\n",
              "      <td>Action &amp; Adventure</td>\n",
              "      <td>32.0</td>\n",
              "      <td>90.0</td>\n",
              "    </tr>\n",
              "    <tr>\n",
              "      <th>m/7_guardians_of_the_tomb</th>\n",
              "      <td>7 Guardians of the Tomb</td>\n",
              "      <td>Action &amp; Adventure</td>\n",
              "      <td>23.0</td>\n",
              "      <td>90.0</td>\n",
              "    </tr>\n",
              "    <tr>\n",
              "      <th>m/alien_outpost</th>\n",
              "      <td>Alien Outpost</td>\n",
              "      <td>Action &amp; Adventure</td>\n",
              "      <td>32.0</td>\n",
              "      <td>90.0</td>\n",
              "    </tr>\n",
              "    <tr>\n",
              "      <th>m/big_game_2015</th>\n",
              "      <td>Big Game</td>\n",
              "      <td>Action &amp; Adventure</td>\n",
              "      <td>34.0</td>\n",
              "      <td>90.0</td>\n",
              "    </tr>\n",
              "    <tr>\n",
              "      <th>m/big_hit</th>\n",
              "      <td>The Big Hit</td>\n",
              "      <td>Action &amp; Adventure</td>\n",
              "      <td>57.0</td>\n",
              "      <td>91.0</td>\n",
              "    </tr>\n",
              "    <tr>\n",
              "      <th>m/double_team</th>\n",
              "      <td>Double Team</td>\n",
              "      <td>Action &amp; Adventure</td>\n",
              "      <td>25.0</td>\n",
              "      <td>91.0</td>\n",
              "    </tr>\n",
              "    <tr>\n",
              "      <th>m/officer_downe</th>\n",
              "      <td>Officer Downe</td>\n",
              "      <td>Action &amp; Adventure</td>\n",
              "      <td>30.0</td>\n",
              "      <td>91.0</td>\n",
              "    </tr>\n",
              "    <tr>\n",
              "      <th>m/the_transporter_refueled</th>\n",
              "      <td>The Transporter Refueled</td>\n",
              "      <td>Action &amp; Adventure</td>\n",
              "      <td>30.0</td>\n",
              "      <td>91.0</td>\n",
              "    </tr>\n",
              "    <tr>\n",
              "      <th>m/from_paris_with_love</th>\n",
              "      <td>From Paris with Love</td>\n",
              "      <td>Action &amp; Adventure</td>\n",
              "      <td>54.0</td>\n",
              "      <td>92.0</td>\n",
              "    </tr>\n",
              "    <tr>\n",
              "      <th>m/bloodsport</th>\n",
              "      <td>Bloodsport</td>\n",
              "      <td>Action &amp; Adventure</td>\n",
              "      <td>74.0</td>\n",
              "      <td>92.0</td>\n",
              "    </tr>\n",
              "    <tr>\n",
              "      <th>m/out_for_justice</th>\n",
              "      <td>Out for Justice</td>\n",
              "      <td>Action &amp; Adventure</td>\n",
              "      <td>53.0</td>\n",
              "      <td>92.0</td>\n",
              "    </tr>\n",
              "    <tr>\n",
              "      <th>m/arsenal_2017</th>\n",
              "      <td>Arsenal</td>\n",
              "      <td>Action &amp; Adventure</td>\n",
              "      <td>17.0</td>\n",
              "      <td>92.0</td>\n",
              "    </tr>\n",
              "    <tr>\n",
              "      <th>m/glimmer_man</th>\n",
              "      <td>The Glimmer Man</td>\n",
              "      <td>Action &amp; Adventure</td>\n",
              "      <td>38.0</td>\n",
              "      <td>92.0</td>\n",
              "    </tr>\n",
              "    <tr>\n",
              "      <th>m/red_dawn_2012</th>\n",
              "      <td>Red Dawn</td>\n",
              "      <td>Action &amp; Adventure</td>\n",
              "      <td>51.0</td>\n",
              "      <td>93.0</td>\n",
              "    </tr>\n",
              "    <tr>\n",
              "      <th>m/death_wish_ii</th>\n",
              "      <td>Death Wish II</td>\n",
              "      <td>Action &amp; Adventure</td>\n",
              "      <td>44.0</td>\n",
              "      <td>93.0</td>\n",
              "    </tr>\n",
              "    <tr>\n",
              "      <th>m/roger_cormans_death_race_2050</th>\n",
              "      <td>Roger Corman's Death Race 2050</td>\n",
              "      <td>Action &amp; Adventure</td>\n",
              "      <td>33.0</td>\n",
              "      <td>93.0</td>\n",
              "    </tr>\n",
              "    <tr>\n",
              "      <th>m/1070608-quest</th>\n",
              "      <td>The Quest</td>\n",
              "      <td>Action &amp; Adventure</td>\n",
              "      <td>36.0</td>\n",
              "      <td>93.0</td>\n",
              "    </tr>\n",
              "    <tr>\n",
              "      <th>m/soldiers_of_fortune_2012</th>\n",
              "      <td>Soldiers of Fortune</td>\n",
              "      <td>Action &amp; Adventure</td>\n",
              "      <td>9.0</td>\n",
              "      <td>94.0</td>\n",
              "    </tr>\n",
              "    <tr>\n",
              "      <th>m/the_outsider_2014</th>\n",
              "      <td>The Outsider</td>\n",
              "      <td>Action &amp; Adventure</td>\n",
              "      <td>12.0</td>\n",
              "      <td>94.0</td>\n",
              "    </tr>\n",
              "    <tr>\n",
              "      <th>m/hard_target</th>\n",
              "      <td>Hard Target</td>\n",
              "      <td>Action &amp; Adventure</td>\n",
              "      <td>49.0</td>\n",
              "      <td>94.0</td>\n",
              "    </tr>\n",
              "    <tr>\n",
              "      <th>m/tracers</th>\n",
              "      <td>Tracers</td>\n",
              "      <td>Action &amp; Adventure</td>\n",
              "      <td>37.0</td>\n",
              "      <td>94.0</td>\n",
              "    </tr>\n",
              "    <tr>\n",
              "      <th>m/resident_evil_retribution</th>\n",
              "      <td>Resident Evil: Retribution</td>\n",
              "      <td>Action &amp; Adventure</td>\n",
              "      <td>51.0</td>\n",
              "      <td>95.0</td>\n",
              "    </tr>\n",
              "    <tr>\n",
              "      <th>m/mile_22</th>\n",
              "      <td>Mile 22</td>\n",
              "      <td>Action &amp; Adventure</td>\n",
              "      <td>44.0</td>\n",
              "      <td>95.0</td>\n",
              "    </tr>\n",
              "  </tbody>\n",
              "</table>\n",
              "</div>"
            ],
            "text/plain": [
              "                                                                                    movie_title  ... runtime\n",
              "rotten_tomatoes_link                                                                             ...        \n",
              "m/justice_league_gods_and_monsters                            Justice League: Gods and Monsters  ...    72.0\n",
              "m/bring_me_the_head_of_the_machine_gun_woman  Bring Me the Head of the Machine Gun Woman (Tr...  ...    75.0\n",
              "m/antboy                                                                                 Antboy  ...    77.0\n",
              "m/intensive_care                                                                 Intensive Care  ...    80.0\n",
              "m/1129132-torque                                                                         Torque  ...    81.0\n",
              "m/blind_fury                                                                         Blind Fury  ...    82.0\n",
              "m/arme_riddere                                                                          Jackpot  ...    82.0\n",
              "m/passenger_57                                                                     Passenger 57  ...    83.0\n",
              "m/the_last_heist                                                                 The Last Heist  ...    84.0\n",
              "m/vigilante_diaries                                                           Vigilante Diaries  ...    84.0\n",
              "m/anarchy                                                                             Cymbeline  ...    85.0\n",
              "m/acceleration                                                                     Acceleration  ...    85.0\n",
              "m/fire_birds                                                                         Fire Birds  ...    85.0\n",
              "m/replacement_killers                                                   The Replacement Killers  ...    86.0\n",
              "m/gun_shy_2017                                                                          Gun Shy  ...    86.0\n",
              "m/age_of_kill                                                                       Age Of Kill  ...    86.0\n",
              "m/hobo_with_a_shotgun                                                       Hobo With a Shotgun  ...    86.0\n",
              "m/sword_of_vengeance                                                         Sword Of Vengeance  ...    87.0\n",
              "m/transporter_2                                                                   Transporter 2  ...    88.0\n",
              "m/trading_paint                                                                   Trading Paint  ...    88.0\n",
              "m/lucy_2014                                                                                Lucy  ...    88.0\n",
              "m/black_dog                                                                           Black Dog  ...    88.0\n",
              "m/earth_to_echo                                                                   Earth to Echo  ...    89.0\n",
              "m/getaway                                                                               Getaway  ...    89.0\n",
              "m/1116741-derailed                                                                     Derailed  ...    89.0\n",
              "m/kickboxer_2                                                        Kickboxer 2: The Road Back  ...    89.0\n",
              "m/1083461-avengers                                                                 The Avengers  ...    89.0\n",
              "m/1047928-gunmen                                                                         Gunmen  ...    90.0\n",
              "m/dolemite                                                                             Dolemite  ...    90.0\n",
              "m/kite_2014                                                                                Kite  ...    90.0\n",
              "m/heist_2015                                                                              Heist  ...    90.0\n",
              "m/death_wish_3                                                                     Death Wish 3  ...    90.0\n",
              "m/sharknado_2_the_second_one                                        Sharknado 2: The Second One  ...    90.0\n",
              "m/close_range                                                                       Close Range  ...    90.0\n",
              "m/1004567-commando                                                                     Commando  ...    90.0\n",
              "m/justice_league_dark_apokolips_war                          Justice League Dark: Apokolips War  ...    90.0\n",
              "m/miami_connection                                                             Miami Connection  ...    90.0\n",
              "m/wolves                                                                                 Wolves  ...    90.0\n",
              "m/7_guardians_of_the_tomb                                               7 Guardians of the Tomb  ...    90.0\n",
              "m/alien_outpost                                                                   Alien Outpost  ...    90.0\n",
              "m/big_game_2015                                                                        Big Game  ...    90.0\n",
              "m/big_hit                                                                           The Big Hit  ...    91.0\n",
              "m/double_team                                                                       Double Team  ...    91.0\n",
              "m/officer_downe                                                                   Officer Downe  ...    91.0\n",
              "m/the_transporter_refueled                                             The Transporter Refueled  ...    91.0\n",
              "m/from_paris_with_love                                                     From Paris with Love  ...    92.0\n",
              "m/bloodsport                                                                         Bloodsport  ...    92.0\n",
              "m/out_for_justice                                                               Out for Justice  ...    92.0\n",
              "m/arsenal_2017                                                                          Arsenal  ...    92.0\n",
              "m/glimmer_man                                                                   The Glimmer Man  ...    92.0\n",
              "m/red_dawn_2012                                                                        Red Dawn  ...    93.0\n",
              "m/death_wish_ii                                                                   Death Wish II  ...    93.0\n",
              "m/roger_cormans_death_race_2050                                  Roger Corman's Death Race 2050  ...    93.0\n",
              "m/1070608-quest                                                                       The Quest  ...    93.0\n",
              "m/soldiers_of_fortune_2012                                                  Soldiers of Fortune  ...    94.0\n",
              "m/the_outsider_2014                                                                The Outsider  ...    94.0\n",
              "m/hard_target                                                                       Hard Target  ...    94.0\n",
              "m/tracers                                                                               Tracers  ...    94.0\n",
              "m/resident_evil_retribution                                          Resident Evil: Retribution  ...    95.0\n",
              "m/mile_22                                                                               Mile 22  ...    95.0\n",
              "\n",
              "[60 rows x 4 columns]"
            ]
          },
          "metadata": {
            "tags": []
          },
          "execution_count": 27
        }
      ]
    },
    {
      "cell_type": "code",
      "metadata": {
        "id": "vkt4aMmv1YlH",
        "colab": {
          "base_uri": "https://localhost:8080/"
        },
        "outputId": "f728e10b-e188-4ddc-cbcf-9dd0b576a2fa"
      },
      "source": [
        "# I then run my pearsonr test to see the correlation between runtime and audience rating. \n",
        "stats.pearsonr(Movies4_filtered['runtime'],Movies4_filtered['audience_rating'])"
      ],
      "execution_count": null,
      "outputs": [
        {
          "output_type": "execute_result",
          "data": {
            "text/plain": [
              "(0.3949216402755179, 6.019562883900148e-09)"
            ]
          },
          "metadata": {
            "tags": []
          },
          "execution_count": 28
        }
      ]
    },
    {
      "cell_type": "code",
      "metadata": {
        "id": "EGdu09FM1qOh",
        "colab": {
          "base_uri": "https://localhost:8080/",
          "height": 350
        },
        "outputId": "fc779d19-b4ed-44c5-9fb9-979c35b3f7fa"
      },
      "source": [
        "# After running our personr test it is timme to show a scatterpoint graph to visualize our data. \n",
        "# As you can see from our graph there is little to no correlation.\n",
        "plt.figure(figsize=(10,5))\n",
        "sns.scatterplot(x=\"runtime\", y=\"audience_rating\", data=Movies4_filtered)\n",
        "plt.xlabel(\"Runtime\")\n",
        "plt.ylabel(\"Audience Rating\")\n",
        "plt.title('Action Movie Popularity vs Runtime',)\n",
        "plt.show()"
      ],
      "execution_count": null,
      "outputs": [
        {
          "output_type": "display_data",
          "data": {
            "image/png": "[encoded data removed]",
            "text/plain": [
              "<Figure size 720x360 with 1 Axes>"
            ]
          },
          "metadata": {
            "tags": [],
            "needs_background": "light"
          }
        }
      ]
    },
    {
      "cell_type": "code",
      "metadata": {
        "id": "1ZmJl-3R484A",
        "colab": {
          "base_uri": "https://localhost:8080/",
          "height": 314
        },
        "outputId": "a9b87d41-d159-48cd-8d6e-b51ff4108026"
      },
      "source": [
        "# After running our personr test it is timme to show a boxplot graph to visualize our data. \n",
        "Movies3_filtered_rating.hist(column ='runtime')"
      ],
      "execution_count": null,
      "outputs": [
        {
          "output_type": "execute_result",
          "data": {
            "text/plain": [
              "array([[<matplotlib.axes._subplots.AxesSubplot object at 0x7fb3fdff4a90>]],\n",
              "      dtype=object)"
            ]
          },
          "metadata": {
            "tags": []
          },
          "execution_count": 30
        },
        {
          "output_type": "display_data",
          "data": {
            "image/png": "[encoded data removed]",
            "text/plain": [
              "<Figure size 432x288 with 1 Axes>"
            ]
          },
          "metadata": {
            "tags": [],
            "needs_background": "light"
          }
        }
      ]
    },
    {
      "cell_type": "code",
      "metadata": {
        "colab": {
          "base_uri": "https://localhost:8080/",
          "height": 314
        },
        "id": "sXo_l4-m45Hk",
        "outputId": "dd23aecb-9e9d-44fc-93b3-0d7c3ed4dcf8"
      },
      "source": [
        "# After running our personr test it is timme to show a boxplot graph to visualize our data. \n",
        "Movies4_filtered_rating.hist(column ='audience_rating')"
      ],
      "execution_count": null,
      "outputs": [
        {
          "output_type": "execute_result",
          "data": {
            "text/plain": [
              "array([[<matplotlib.axes._subplots.AxesSubplot object at 0x7fb3fdf7fc50>]],\n",
              "      dtype=object)"
            ]
          },
          "metadata": {
            "tags": []
          },
          "execution_count": 31
        },
        {
          "output_type": "display_data",
          "data": {
            "image/png": "[encoded data removed]",
            "text/plain": [
              "<Figure size 432x288 with 1 Axes>"
            ]
          },
          "metadata": {
            "tags": [],
            "needs_background": "light"
          }
        }
      ]
    },
    {
      "cell_type": "code",
      "metadata": {
        "id": "x2kkEyB3uaup"
      },
      "source": [
        "# Here I created a new filter titled Movies2 which selects only the columns we are using for this test\n",
        "Movies6 = Movies[['movie_title','genres','audience_rating','runtime','audience_count']]"
      ],
      "execution_count": null,
      "outputs": []
    },
    {
      "cell_type": "code",
      "metadata": {
        "id": "CZSTF41Suaus"
      },
      "source": [
        "# I then created another filter Movies3 which only applies 1 genre which is Action & Adventure.\n",
        "Movies6_filtered = Movies6[Movies5['genres'].isin(['Action & Adventure'])]"
      ],
      "execution_count": null,
      "outputs": []
    },
    {
      "cell_type": "code",
      "metadata": {
        "id": "fsVkn-XVuaut"
      },
      "source": [
        "# Here I further sort our movies into a specific dynamic we want to look at.\n",
        "Movies6_filtered_rating = Movies6_filtered.loc[(Movies6_filtered['audience_count'] <= 150000) & (Movies6_filtered['audience_count'] > 20000)]"
      ],
      "execution_count": null,
      "outputs": []
    },
    {
      "cell_type": "code",
      "metadata": {
        "id": "6bJ7lKV_uaut"
      },
      "source": [
        "Movies6_filtered.dropna(inplace=True)\n",
        "Movies6_filtered.shape"
      ],
      "execution_count": null,
      "outputs": []
    },
    {
      "cell_type": "code",
      "metadata": {
        "colab": {
          "base_uri": "https://localhost:8080/"
        },
        "id": "EipAAYJXuaut",
        "outputId": "769d0afd-2c0f-4e9b-c321-4122f54cde88"
      },
      "source": [
        "# I then run my pearsonr test to see the correlation between audience rating and audience count.\n",
        "stats.pearsonr(Movies6_filtered_rating['audience_rating'],Movies6_filtered_rating['audience_count'])"
      ],
      "execution_count": null,
      "outputs": [
        {
          "output_type": "execute_result",
          "data": {
            "text/plain": [
              "(0.19787383789602958, 0.1263560515912538)"
            ]
          },
          "metadata": {
            "tags": []
          },
          "execution_count": 88
        }
      ]
    },
    {
      "cell_type": "code",
      "metadata": {
        "colab": {
          "base_uri": "https://localhost:8080/",
          "height": 350
        },
        "id": "WH08ZFLNuaut",
        "outputId": "a51688f8-d140-497d-8360-d4e3b5cba9e1"
      },
      "source": [
        "# After running our personr test it is timme to show a scatterpoint graph to visualize our data. \n",
        "# As you can see from our graph there is a little correlation to no correlation. \n",
        "plt.figure(figsize=(10,5))\n",
        "sns.scatterplot(x=\"audience_count\", y=\"audience_rating\", data=Movies6_filtered_rating)\n",
        "plt.xlabel(\"Audience Count\")\n",
        "plt.ylabel(\"Audience Rating\")\n",
        "plt.title('Action Movie Popularity vs Audience Count')\n",
        "plt.show()"
      ],
      "execution_count": null,
      "outputs": [
        {
          "output_type": "display_data",
          "data": {
            "image/png": "[encoded data removed]",
            "text/plain": [
              "<Figure size 720x360 with 1 Axes>"
            ]
          },
          "metadata": {
            "tags": [],
            "needs_background": "light"
          }
        }
      ]
    },
    {
      "cell_type": "code",
      "metadata": {
        "colab": {
          "base_uri": "https://localhost:8080/",
          "height": 314
        },
        "id": "x7xrn8kMxVvG",
        "outputId": "5678a5b6-bb7e-43c6-dc53-184d8e93f377"
      },
      "source": [
        "Movies6_filtered_rating.hist(column ='audience_count')"
      ],
      "execution_count": null,
      "outputs": [
        {
          "output_type": "execute_result",
          "data": {
            "text/plain": [
              "array([[<matplotlib.axes._subplots.AxesSubplot object at 0x7fb3fd9bfcd0>]],\n",
              "      dtype=object)"
            ]
          },
          "metadata": {
            "tags": []
          },
          "execution_count": 94
        },
        {
          "output_type": "display_data",
          "data": {
            "image/png": "[encoded data removed]",
            "text/plain": [
              "<Figure size 432x288 with 1 Axes>"
            ]
          },
          "metadata": {
            "tags": [],
            "needs_background": "light"
          }
        }
      ]
    },
    {
      "cell_type": "code",
      "metadata": {
        "colab": {
          "base_uri": "https://localhost:8080/",
          "height": 314
        },
        "id": "ZU0aQayIxbZW",
        "outputId": "4332d2c1-0112-43cd-acdb-384f48d80e47"
      },
      "source": [
        "Movies6_filtered_rating.hist(column ='audience_rating')"
      ],
      "execution_count": null,
      "outputs": [
        {
          "output_type": "execute_result",
          "data": {
            "text/plain": [
              "array([[<matplotlib.axes._subplots.AxesSubplot object at 0x7fb3fdc04190>]],\n",
              "      dtype=object)"
            ]
          },
          "metadata": {
            "tags": []
          },
          "execution_count": 95
        },
        {
          "output_type": "display_data",
          "data": {
            "image/png": "[encoded data removed]",
            "text/plain": [
              "<Figure size 432x288 with 1 Axes>"
            ]
          },
          "metadata": {
            "tags": [],
            "needs_background": "light"
          }
        }
      ]
    },
    {
      "cell_type": "markdown",
      "metadata": {
        "id": "3DhDtClo5DuL"
      },
      "source": [
        "# Section 6 - Conclusion"
      ]
    },
    {
      "cell_type": "markdown",
      "metadata": {
        "id": "qvx4f2HA5MqH"
      },
      "source": [
        "In conclusion after assessing all the data provided we can show that there is little to no correlation between short or long movies in either Action or Horror. What this means for producers is that regardless whether they decide to make a short film or a long film it has little to know bearing on how the audience will rate the film."
      ]
    }
  ]
}